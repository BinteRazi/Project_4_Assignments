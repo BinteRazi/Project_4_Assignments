{
  "nbformat": 4,
  "nbformat_minor": 0,
  "metadata": {
    "colab": {
      "provenance": [],
      "authorship_tag": "ABX9TyO5ZRR1KINzptjOSAKwdMwx",
      "include_colab_link": true
    },
    "kernelspec": {
      "name": "python3",
      "display_name": "Python 3"
    },
    "language_info": {
      "name": "python"
    }
  },
  "cells": [
    {
      "cell_type": "markdown",
      "metadata": {
        "id": "view-in-github",
        "colab_type": "text"
      },
      "source": [
        "<a href=\"https://colab.research.google.com/github/BinteRazi/Project_4_Assignments/blob/main/05_Loops_Control_Flow.ipynb\" target=\"_parent\"><img src=\"https://colab.research.google.com/assets/colab-badge.svg\" alt=\"Open In Colab\"/></a>"
      ]
    },
    {
      "cell_type": "markdown",
      "source": [
        "\"\"\"\"\n",
        "# Program: 00_guess_my_number.md\n",
        "The program will randomly select a number between 1 and 99. The player will repeatedly guess the number until they get it right, with the program giving hints like:\n",
        "\n",
        "\"Your guess is too high\"\n",
        "\n",
        "\"Your guess is too low\"\n",
        "\n",
        "Once the player guesses the correct number, the program congratulates them and reveals the number.\n",
        "\n",
        "\"\"\"\""
      ],
      "metadata": {
        "id": "WEtM_IZ1qb3o"
      }
    },
    {
      "cell_type": "code",
      "execution_count": null,
      "metadata": {
        "colab": {
          "base_uri": "https://localhost:8080/"
        },
        "id": "pmx6cTynqOEh",
        "outputId": "28d7b5ba-4d2d-4973-c26e-42417c951378"
      },
      "outputs": [
        {
          "output_type": "stream",
          "name": "stdout",
          "text": [
            "Welcome to Guess My Number!\n",
            "I am thinking of a number between 1 and 99...\n",
            "Enter a guess: 56\n",
            "Your guess is too low\n",
            "\n",
            "Enter a new guess: 78\n",
            "Your guess is too high\n",
            "\n",
            "Enter a new guess: 34\n",
            "Your guess is too low\n",
            "\n",
            "Enter a new guess: 50\n",
            "Your guess is too low\n",
            "\n",
            "Enter a new guess: 48\n",
            "Your guess is too low\n",
            "\n",
            "Enter a new guess: 32\n",
            "Your guess is too low\n",
            "\n",
            "Enter a new guess: 76\n",
            "Your guess is too high\n",
            "\n",
            "Enter a new guess: 12\n",
            "Your guess is too low\n",
            "\n",
            "Enter a new guess: 87\n",
            "Your guess is too high\n",
            "\n",
            "Enter a new guess: 56\n",
            "Your guess is too low\n",
            "\n",
            "Enter a new guess: 34\n",
            "Your guess is too low\n",
            "\n",
            "Enter a new guess: 90\n",
            "Your guess is too high\n",
            "\n",
            "Enter a new guess: 84\n",
            "Your guess is too high\n",
            "\n",
            "Enter a new guess: 11\n",
            "Your guess is too low\n",
            "\n"
          ]
        }
      ],
      "source": [
        "import random\n",
        "print(\"Welcome to Guess My Number!\")\n",
        "def main():\n",
        "\n",
        "    secret_number = random.randint(1, 99)\n",
        "\n",
        "    print(\"I am thinking of a number between 1 and 99...\")\n",
        "\n",
        "\n",
        "    guess = int(input(\"Enter a guess: \"))\n",
        "\n",
        "\n",
        "    while guess != secret_number:\n",
        "        if guess < secret_number:\n",
        "            print(\"Your guess is too low\")\n",
        "        else:\n",
        "            print(\"Your guess is too high\")\n",
        "\n",
        "        print()\n",
        "\n",
        "        guess = int(input(\"Enter a new guess: \"))\n",
        "\n",
        "\n",
        "\n",
        "    print(\"Congrats! The number was: \" + str(secret_number))\n",
        "\n",
        "\n",
        "if __name__ == '__main__':\n",
        "    main()\n"
      ]
    },
    {
      "cell_type": "markdown",
      "source": [
        "\"\"\"\"\n",
        "# Program: 01_fibonacci.md\n",
        "Write a program to display terms of the Fibonacci sequence, starting with Fib(0), continuing as long as the numbers are less than 10,000,\n",
        "\n",
        "\"\"\"\""
      ],
      "metadata": {
        "id": "YKzvqSpkvL9b"
      }
    },
    {
      "cell_type": "code",
      "source": [
        "print(\"Fibonacci Sequence Generator\")\n",
        "# Constant for maximum term value\n",
        "MAX_TERM_VALUE: int = 10000\n",
        "\n",
        "def main():\n",
        "    curr_term = 0\n",
        "    next_term = 1\n",
        "\n",
        "    while curr_term <= MAX_TERM_VALUE:\n",
        "        print(curr_term)\n",
        "        term_after_next = curr_term + next_term\n",
        "        curr_term = next_term\n",
        "        next_term = term_after_next\n",
        "\n",
        "# Run the program\n",
        "if __name__ == '__main__':\n",
        "    main()\n"
      ],
      "metadata": {
        "colab": {
          "base_uri": "https://localhost:8080/"
        },
        "id": "N6ud5rgWvJq0",
        "outputId": "6de628ce-23f7-4b8b-9966-606ed2058182"
      },
      "execution_count": 2,
      "outputs": [
        {
          "output_type": "stream",
          "name": "stdout",
          "text": [
            "Fibonacci Sequence Generator\n",
            "0\n",
            "1\n",
            "1\n",
            "2\n",
            "3\n",
            "5\n",
            "8\n",
            "13\n",
            "21\n",
            "34\n",
            "55\n",
            "89\n",
            "144\n",
            "233\n",
            "377\n",
            "610\n",
            "987\n",
            "1597\n",
            "2584\n",
            "4181\n",
            "6765\n"
          ]
        }
      ]
    },
    {
      "cell_type": "markdown",
      "source": [
        "\"\"\"\"\n",
        "# Program:02_print_events.md\n",
        "Write a program to print the first 20 even numbers starting from 0.\n",
        "\n",
        "\"\"\"\"\n"
      ],
      "metadata": {
        "id": "YkyuR-tsymCl"
      }
    },
    {
      "cell_type": "code",
      "source": [
        "print(\"First 20 Even Numbers:\")\n",
        "def main():\n",
        "    # Loop runs 20 times, starting from 0 up to 19\n",
        "    for i in range(20):\n",
        "        print(i * 2)\n",
        "\n",
        "# Call the main function when the program runs\n",
        "if __name__ == \"__main__\":\n",
        "    main()\n"
      ],
      "metadata": {
        "colab": {
          "base_uri": "https://localhost:8080/"
        },
        "id": "-NsJxE8vy5XM",
        "outputId": "3a3e894c-bc22-4b5f-fc05-71a8f374aa91"
      },
      "execution_count": 1,
      "outputs": [
        {
          "output_type": "stream",
          "name": "stdout",
          "text": [
            "First 20 Even Numbers:\n",
            "0\n",
            "2\n",
            "4\n",
            "6\n",
            "8\n",
            "10\n",
            "12\n",
            "14\n",
            "16\n",
            "18\n",
            "20\n",
            "22\n",
            "24\n",
            "26\n",
            "28\n",
            "30\n",
            "32\n",
            "34\n",
            "36\n",
            "38\n"
          ]
        }
      ]
    },
    {
      "cell_type": "markdown",
      "source": [
        "\"\"\"\"\n",
        "# Program: 03_wholesome_machine.md\n",
        "Write a program that prompts the user to type an affirmation of your choice (e.g.\n",
        "I am capable of doing anything I put my mind to.) repeatedly until they type it exactly right.\n",
        "\n",
        "\"\"\"\""
      ],
      "metadata": {
        "id": "Srgu2jNVz7xR"
      }
    },
    {
      "cell_type": "code",
      "source": [
        "print(\"Affirmation Repetition Program\")\n",
        "\n",
        "AFFIRMATION: str = \"I am capable of doing anything I put my mind to.\"\n",
        "\n",
        "def main():\n",
        "    print(\"Please type the following affirmation: \" + AFFIRMATION)\n",
        "\n",
        "\n",
        "    user_feedback = input()\n",
        "\n",
        "\n",
        "    while user_feedback != AFFIRMATION:\n",
        "        print(\"That was not the affirmation.\")\n",
        "        print(\"Please type the following affirmation: \" + AFFIRMATION)\n",
        "        user_feedback = input()\n",
        "\n",
        "    print(\"That's right! :)\")\n",
        "\n",
        "if __name__ == '__main__':\n",
        "    main()\n"
      ],
      "metadata": {
        "colab": {
          "base_uri": "https://localhost:8080/"
        },
        "id": "SgoCg2mZ0L2E",
        "outputId": "a37abc4c-d92c-4073-82df-47f476a40ad2"
      },
      "execution_count": 3,
      "outputs": [
        {
          "output_type": "stream",
          "name": "stdout",
          "text": [
            "Affirmation Repetition Program\n",
            "Please type the following affirmation: I am capable of doing anything I put my mind to.\n",
            "I am eating an apple\n",
            "That was not the affirmation.\n",
            "Please type the following affirmation: I am capable of doing anything I put my mind to.\n",
            "She works hard.\n",
            "That was not the affirmation.\n",
            "Please type the following affirmation: I am capable of doing anything I put my mind to.\n",
            "He is a boy\n",
            "That was not the affirmation.\n",
            "Please type the following affirmation: I am capable of doing anything I put my mind to.\n",
            "I am capable of doing anything I put my mind to.\n",
            "That's right! :)\n"
          ]
        }
      ]
    },
    {
      "cell_type": "markdown",
      "source": [
        "# Program: 04_liftoff.md\n",
        "Write a program that prints a countdown from 10 to 1, followed by \"Liftoff!\""
      ],
      "metadata": {
        "id": "grrX1P671m13"
      }
    },
    {
      "cell_type": "code",
      "source": [
        "def main():\n",
        "    # Countdown from 10 to 1 (inclusive)\n",
        "    for i in range(10, 0, -1):\n",
        "        print(i)\n",
        "\n",
        "    print(\"Liftoff!\")\n",
        "\n",
        "# Run the program\n",
        "if __name__ == '__main__':\n",
        "    main()\n"
      ],
      "metadata": {
        "colab": {
          "base_uri": "https://localhost:8080/"
        },
        "id": "3FED4Bm41hnu",
        "outputId": "d08c9750-c431-409d-b0df-0dbac9dcf901"
      },
      "execution_count": 4,
      "outputs": [
        {
          "output_type": "stream",
          "name": "stdout",
          "text": [
            "10\n",
            "9\n",
            "8\n",
            "7\n",
            "6\n",
            "5\n",
            "4\n",
            "3\n",
            "2\n",
            "1\n",
            "Liftoff!\n"
          ]
        }
      ]
    },
    {
      "cell_type": "markdown",
      "source": [
        "# Program: 05_double_it.md\n",
        "Write a program that: Asks the user to enter a number. Doubles that number and prints the result. Keeps doubling and printing until the value is 100 or greater."
      ],
      "metadata": {
        "id": "dup0CdpE2YYo"
      }
    },
    {
      "cell_type": "code",
      "source": [
        "def main():\n",
        "    print(\"This is Double Number.\")\n",
        "    curr_value = int(input(\"Enter a number: \"))\n",
        "\n",
        "\n",
        "    while curr_value < 100:\n",
        "        curr_value = curr_value * 2\n",
        "        print(curr_value)\n",
        "\n",
        "\n",
        "if __name__ == '__main__':\n",
        "    main()\n"
      ],
      "metadata": {
        "colab": {
          "base_uri": "https://localhost:8080/"
        },
        "id": "NcVwLm6k2ySJ",
        "outputId": "63002c80-77ce-44fd-e699-1e94b4cb123d"
      },
      "execution_count": 6,
      "outputs": [
        {
          "output_type": "stream",
          "name": "stdout",
          "text": [
            "This is Double Number.\n",
            "Enter a number: 5\n",
            "10\n",
            "20\n",
            "40\n",
            "80\n",
            "160\n"
          ]
        }
      ]
    }
  ]
}