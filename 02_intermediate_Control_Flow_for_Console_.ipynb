{
  "nbformat": 4,
  "nbformat_minor": 0,
  "metadata": {
    "colab": {
      "provenance": [],
      "authorship_tag": "ABX9TyNdpxENdQn8dk8bhSIyafu/",
      "include_colab_link": true
    },
    "kernelspec": {
      "name": "python3",
      "display_name": "Python 3"
    },
    "language_info": {
      "name": "python"
    }
  },
  "cells": [
    {
      "cell_type": "markdown",
      "metadata": {
        "id": "view-in-github",
        "colab_type": "text"
      },
      "source": [
        "<a href=\"https://colab.research.google.com/github/BinteRazi/Project_4_Assignments/blob/main/02_intermediate_Control_Flow_for_Console_.ipynb\" target=\"_parent\"><img src=\"https://colab.research.google.com/assets/colab-badge.svg\" alt=\"Open In Colab\"/></a>"
      ]
    },
    {
      "cell_type": "markdown",
      "source": [
        "\"\"\"\n",
        "#Program: 00_handout.md\n",
        "\n",
        "This program plays a simple High-Low game between the user and the computer.\n",
        "In each round, the user gets a number from 1 to 100 and guesses if it’s higher or lower than the computers.\n",
        "Points are awarded for correct guesses, and a performance message is shown at the end.\n",
        "It demonstrates use of random numbers, user input, control flow, loops, and Boolean logic.\n",
        "\"\"\""
      ],
      "metadata": {
        "id": "qjqrCDz-DlqZ"
      }
    },
    {
      "cell_type": "code",
      "execution_count": 2,
      "metadata": {
        "colab": {
          "base_uri": "https://localhost:8080/"
        },
        "id": "i6E83wFADkPE",
        "outputId": "02d9a89d-5141-4f95-8f47-5fd338dfed6f"
      },
      "outputs": [
        {
          "output_type": "stream",
          "name": "stdout",
          "text": [
            "\n",
            "========================================\n",
            "        Welcome to the High-Low Game!       \n",
            "========================================\n",
            "\n",
            "Round 1\n",
            "Your number is 69\n",
            "Do you think your number is higher or lower than the computer's?: 56\n",
            "Please enter either 'higher' or 'lower': higher\n",
            "You were right! The computer's number was 49\n",
            "Your score is now 1\n",
            "\n",
            "Round 2\n",
            "Your number is 13\n",
            "Do you think your number is higher or lower than the computer's?: lower\n",
            "Aww, that's incorrect. The computer's number was 13\n",
            "Your score is now 1\n",
            "\n",
            "Round 3\n",
            "Your number is 30\n",
            "Do you think your number is higher or lower than the computer's?: higher\n",
            "Aww, that's incorrect. The computer's number was 87\n",
            "Your score is now 1\n",
            "\n",
            "Round 4\n",
            "Your number is 83\n",
            "Do you think your number is higher or lower than the computer's?: higher\n",
            "You were right! The computer's number was 29\n",
            "Your score is now 2\n",
            "\n",
            "Round 5\n",
            "Your number is 59\n",
            "Do you think your number is higher or lower than the computer's?: higher\n",
            "You were right! The computer's number was 6\n",
            "Your score is now 3\n",
            "\n",
            "Thanks for playing!\n",
            "\n",
            "Final Score: 3/5\n",
            "Good job, you played really well!\n"
          ]
        }
      ],
      "source": [
        "import random\n",
        "\n",
        "# Constants\n",
        "NUM_ROUNDS = 5\n",
        "\n",
        "def high_low_game():\n",
        "    print(\"\\n\" + \"=\" * 40)\n",
        "    print(\"        Welcome to the High-Low Game!       \")\n",
        "    print(\"=\" * 40 + \"\\n\")\n",
        "\n",
        "    score = 0  # Milestone #5: Initialize score\n",
        "\n",
        "    for round_num in range(1, NUM_ROUNDS + 1):  # Milestone #4\n",
        "        print(f\"Round {round_num}\")\n",
        "\n",
        "        # Milestone #1: Generate random numbers\n",
        "        user_number = random.randint(1, 100)\n",
        "        computer_number = random.randint(1, 100)\n",
        "\n",
        "        print(f\"Your number is {user_number}\")\n",
        "\n",
        "        # Milestone #2 + Extension #1: Get user guess & validate\n",
        "        guess = input(\"Do you think your number is higher or lower than the computer's?: \").strip().lower()\n",
        "        while guess not in ['higher', 'lower']:\n",
        "            guess = input(\"Please enter either 'higher' or 'lower': \").strip().lower()\n",
        "\n",
        "        # Milestone #3: Game logic\n",
        "        if guess == 'higher' and user_number > computer_number:\n",
        "            print(f\"You were right! The computer's number was {computer_number}\")\n",
        "            score += 1\n",
        "        elif guess == 'lower' and user_number < computer_number:\n",
        "            print(f\"You were right! The computer's number was {computer_number}\")\n",
        "            score += 1\n",
        "        else:\n",
        "            print(f\"Aww, that's incorrect. The computer's number was {computer_number}\")\n",
        "\n",
        "        # Milestone #5: Print score\n",
        "        print(f\"Your score is now {score}\\n\")\n",
        "\n",
        "    # Extension #2: End-game message\n",
        "    print(\"Thanks for playing!\")\n",
        "    print(f\"\\nFinal Score: {score}/{NUM_ROUNDS}\")\n",
        "    if score == NUM_ROUNDS:\n",
        "        print(\"Wow! You played perfectly!\")\n",
        "    elif score >= NUM_ROUNDS // 2:\n",
        "        print(\"Good job, you played really well!\")\n",
        "    else:\n",
        "        print(\"Better luck next time!\")\n",
        "\n",
        "# Run the game\n",
        "high_low_game()"
      ]
    }
  ]
}