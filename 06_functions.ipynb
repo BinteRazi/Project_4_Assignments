{
  "nbformat": 4,
  "nbformat_minor": 0,
  "metadata": {
    "colab": {
      "provenance": [],
      "authorship_tag": "ABX9TyNNHAlXardYM/8g08FVMlCQ",
      "include_colab_link": true
    },
    "kernelspec": {
      "name": "python3",
      "display_name": "Python 3"
    },
    "language_info": {
      "name": "python"
    }
  },
  "cells": [
    {
      "cell_type": "markdown",
      "metadata": {
        "id": "view-in-github",
        "colab_type": "text"
      },
      "source": [
        "<a href=\"https://colab.research.google.com/github/BinteRazi/Project_4_Assignments/blob/main/06_functions.ipynb\" target=\"_parent\"><img src=\"https://colab.research.google.com/assets/colab-badge.svg\" alt=\"Open In Colab\"/></a>"
      ]
    },
    {
      "cell_type": "markdown",
      "source": [
        "\"\"\"\n",
        "#Program: 00_averages.md\n",
        "Write a program that defines a function to calculate the average (midpoint)\n",
        "of two numbers, and demonstrates its use by averaging a few pairs of numbers.\n",
        "\n",
        "\"\"\""
      ],
      "metadata": {
        "id": "ZKSe9nutpCUn"
      }
    },
    {
      "cell_type": "code",
      "execution_count": 7,
      "metadata": {
        "id": "ZIosZ28vpBYs",
        "colab": {
          "base_uri": "https://localhost:8080/"
        },
        "outputId": "cef8ed19-8d9f-441e-b759-7200f7ee3fa3"
      },
      "outputs": [
        {
          "output_type": "stream",
          "name": "stdout",
          "text": [
            "This program is Average of Two Numbers.\n",
            "avg_1: 5.0\n",
            "avg_2: 9.0\n",
            "final: 7.0\n"
          ]
        }
      ],
      "source": [
        "print(\"This program is Average of Two Numbers.\")\n",
        "def average(a: float, b: float) -> float:\n",
        "\n",
        "    return (a + b) / 2\n",
        "\n",
        "def main():\n",
        "    avg_1 = average(0, 10)\n",
        "    avg_2 = average(8, 10)\n",
        "\n",
        "    final = average(avg_1, avg_2)\n",
        "\n",
        "    print(\"avg_1:\", avg_1)\n",
        "    print(\"avg_2:\", avg_2)\n",
        "    print(\"final:\", final)\n",
        "\n",
        "if __name__ == '__main__':\n",
        "    main()\n"
      ]
    },
    {
      "cell_type": "markdown",
      "source": [
        "\"\"\"\n",
        "#Program: 01_chaotic_counting.md\n",
        "Write a program that counts from 1 to 10, but randomly decides whether to stop early.\n",
        "At each number, the program checks a function done() which randomly returns True\n",
        "based on a predefined likelihood. If done() returns True, the program stops counting.\n",
        "\n",
        "\"\"\""
      ],
      "metadata": {
        "id": "hrXlI86XqPE8"
      }
    },
    {
      "cell_type": "code",
      "source": [
        "import random\n",
        "print(\"This program counts from 1 to 10, but randomly decides whether to stop early.\")\n",
        "\n",
        "DONE_LIKELIHOOD = 0.3\n",
        "\n",
        "def chaotic_counting():\n",
        "    for i in range(10):\n",
        "        curr_num = i + 1\n",
        "        if done():\n",
        "            return\n",
        "            print(curr_num)\n",
        "\n",
        "def done():\n",
        "    \"\"\" Returns True with a probability of DONE_LIKELIHOOD \"\"\"\n",
        "    if random.random() < DONE_LIKELIHOOD:\n",
        "        return True\n",
        "    return False\n",
        "\n",
        "def main():\n",
        "    print(\"I'm going to count until 10 or until I feel like stopping, whichever comes first.\")\n",
        "    chaotic_counting()\n",
        "    print(\"I'm done\")\n",
        "\n",
        "\n",
        "if __name__ == \"__main__\":\n",
        "    main()"
      ],
      "metadata": {
        "colab": {
          "base_uri": "https://localhost:8080/"
        },
        "id": "NlnGgoOdqYCw",
        "outputId": "602baf20-62ff-4ec0-aad8-e6d2245619aa"
      },
      "execution_count": 8,
      "outputs": [
        {
          "output_type": "stream",
          "name": "stdout",
          "text": [
            "This program counts from 1 to 10, but randomly decides whether to stop early.\n",
            "I'm going to count until 10 or until I feel like stopping, whichever comes first.\n",
            "I'm done\n"
          ]
        }
      ]
    },
    {
      "cell_type": "markdown",
      "source": [
        "\"\"\"\n",
        "# Program: 02_count_even.md\n",
        "Write a program that prompts the user to enter integers one at a time.\n",
        "The user can press Enter without typing a number to stop entering values.\n",
        "The program then counts and displays the number of even numbers entered.\n",
        "\n",
        "\"\"\""
      ],
      "metadata": {
        "id": "WG-1Uv9iq3tX"
      }
    },
    {
      "cell_type": "code",
      "source": [
        "\n",
        "print(\"This program counts even numbers.\")\n",
        "def count_even(lst):\n",
        "\n",
        "    count = 0\n",
        "    for num in lst:\n",
        "        if num % 2 == 0:\n",
        "            count += 1\n",
        "    print(count)\n",
        "\n",
        "def get_list_of_ints():\n",
        "\n",
        "    lst = []\n",
        "    user_input = input(\"Enter an integer or press enter to stop: \")\n",
        "    while user_input != \"\":\n",
        "        lst.append(int(user_input))\n",
        "        user_input = input(\"Enter an integer or press enter to stop: \")\n",
        "    return lst\n",
        "\n",
        "def main():\n",
        "    lst = get_list_of_ints()\n",
        "    count_even(lst)\n",
        "\n",
        "if __name__ == '__main__':\n",
        "    main()"
      ],
      "metadata": {
        "colab": {
          "base_uri": "https://localhost:8080/"
        },
        "id": "ECJbh0I4rQB7",
        "outputId": "86b8813b-678a-46f8-bc6c-bd3d4ba2a4ec"
      },
      "execution_count": 9,
      "outputs": [
        {
          "output_type": "stream",
          "name": "stdout",
          "text": [
            "This program counts even numbers.\n",
            "Enter an integer or press enter to stop: 8\n",
            "Enter an integer or press enter to stop: 2\n",
            "Enter an integer or press enter to stop: \n",
            "2\n"
          ]
        }
      ]
    },
    {
      "cell_type": "markdown",
      "source": [
        "\"\"\"\n",
        "#Program: 04_double.md\n",
        "Write a program that asks the user for a number, then returns and displays\n",
        "double its value using a custom function.\n",
        "\n",
        "\"\"\""
      ],
      "metadata": {
        "id": "fXkSTKI_suiS"
      }
    },
    {
      "cell_type": "code",
      "source": [
        "print(\"This program doubles a number.\")\n",
        "def double(num: int):\n",
        "\n",
        "    return num * 2\n",
        "\n",
        "def main():\n",
        "    num = int(input(\"Enter a number: \"))\n",
        "    num_times_2 = double(num)\n",
        "    print(\"Double that is\", num_times_2)\n",
        "\n",
        "if __name__ == '__main__':\n",
        "    main()"
      ],
      "metadata": {
        "id": "2eZE2oijtGke",
        "colab": {
          "base_uri": "https://localhost:8080/"
        },
        "outputId": "6a04c8d9-29e7-4759-dd57-a654a1f5f089"
      },
      "execution_count": 10,
      "outputs": [
        {
          "output_type": "stream",
          "name": "stdout",
          "text": [
            "This program doubles a number.\n",
            "Enter a number: 6\n",
            "Double that is 12\n"
          ]
        }
      ]
    },
    {
      "cell_type": "markdown",
      "source": [
        "\"\"\"\n",
        "#Program: 05_get_name.md\n",
        "Write a program that defines a function to return your name as a string.\n",
        "Then, print a greeting using that name.\n",
        "\n",
        "\"\"\""
      ],
      "metadata": {
        "id": "5xFdXFEfut3D"
      }
    },
    {
      "cell_type": "code",
      "source": [
        "print(\"This program prints a greeting.\")\n",
        "def get_name():\n",
        "    return \"Sophia\"\n",
        "\n",
        "def main():\n",
        "    name = get_name()\n",
        "\n",
        "    print(\"Hello\", name, \"! 🤠\")\n",
        "\n",
        "if __name__ == '__main__':\n",
        "    main()\n"
      ],
      "metadata": {
        "id": "3vhzOW4Su9nu",
        "colab": {
          "base_uri": "https://localhost:8080/"
        },
        "outputId": "9174cfc9-7900-44e9-b977-96dd4cb52abe"
      },
      "execution_count": 12,
      "outputs": [
        {
          "output_type": "stream",
          "name": "stdout",
          "text": [
            "This program prints a greeting.\n",
            "Hello Sophia ! 🤠\n"
          ]
        }
      ]
    },
    {
      "cell_type": "markdown",
      "source": [
        "\"\"\"\n",
        "# Program: 06_is_odd.md\n",
        "Write a program that loops through the numbers 10 to 19 and prints each number\n",
        "followed by whether it is even or odd.\n",
        "\n",
        "\"\"\""
      ],
      "metadata": {
        "id": "UlIu9BHWwWJh"
      }
    },
    {
      "cell_type": "code",
      "source": [
        "print(\"This program prints whether a number is even or odd.\")\n",
        "def is_odd(value: int):\n",
        "   return value % 2 == 1\n",
        "\n",
        "def main():\n",
        "    for i in range(10, 20):\n",
        "        if is_odd(i):\n",
        "            print(f\"{i} odd\")\n",
        "        else:\n",
        "            print(f\"{i} even\")\n",
        "\n",
        "\n",
        "\n",
        "if __name__ == '__main__':\n",
        "    main()"
      ],
      "metadata": {
        "colab": {
          "base_uri": "https://localhost:8080/"
        },
        "id": "R3acpn47we-L",
        "outputId": "17586e54-4009-4ea4-9649-3cd13d6dfb11"
      },
      "execution_count": 13,
      "outputs": [
        {
          "output_type": "stream",
          "name": "stdout",
          "text": [
            "This program prints whether a number is even or odd.\n",
            "10 even\n",
            "11 odd\n",
            "12 even\n",
            "13 odd\n",
            "14 even\n",
            "15 odd\n",
            "16 even\n",
            "17 odd\n",
            "18 even\n",
            "19 odd\n"
          ]
        }
      ]
    },
    {
      "cell_type": "markdown",
      "source": [
        "\"\"\"\n",
        "#Program: 07_print_divisor.md\n",
        "Write a program that asks the user for a number, and then prints all of its divisors.\n",
        "A divisor is a number from 1 to the number itself that divides evenly (with no remainder).\n",
        "\n",
        "\"\"\""
      ],
      "metadata": {
        "id": "2-fbCZWixfyL"
      }
    },
    {
      "cell_type": "code",
      "source": [
        "print(\"This program prints all of a number's divisors.\")\n",
        "def print_divisors(num: int):\n",
        "\n",
        "    print(\"Here are the divisors of\", num)\n",
        "    for i in range(num):\n",
        "        curr_divisor = i + 1\n",
        "        if num % curr_divisor == 0:\n",
        "            print(curr_divisor)\n",
        "\n",
        "def main():\n",
        "    num = int(input(\"Enter a number: \"))\n",
        "    print_divisors(num)\n",
        "\n",
        "\n",
        "if __name__ == '__main__':\n",
        "    main()"
      ],
      "metadata": {
        "colab": {
          "base_uri": "https://localhost:8080/"
        },
        "id": "0kOe95rhxu_q",
        "outputId": "dedf1048-194f-4c12-b3ee-ea0ae73eb270"
      },
      "execution_count": 14,
      "outputs": [
        {
          "output_type": "stream",
          "name": "stdout",
          "text": [
            "This program prints all of a number's divisors.\n",
            "Enter a number: 43\n",
            "Here are the divisors of 43\n",
            "1\n",
            "43\n"
          ]
        }
      ]
    },
    {
      "cell_type": "markdown",
      "source": [
        "\"\"\"\n",
        "#Program: 08_print_multiple.md\n",
        "Write a program that asks the user to type a message and enter the number of times\n",
        "they want the message to be repeated. The program then prints the message that many times.\n",
        "\n",
        "\"\"\""
      ],
      "metadata": {
        "id": "q91xBZWayd7H"
      }
    },
    {
      "cell_type": "code",
      "source": [
        "print(\"This program prints a message a certain number of times.\")\n",
        "def print_multiple(message: str, repeats: int):\n",
        "\n",
        "    for i in range(repeats):\n",
        "        print(message)\n",
        "\n",
        "def main():\n",
        "    message = input(\"Please type a message: \")\n",
        "    repeats = int(input(\"Enter a number of times to repeat your message: \"))\n",
        "    print_multiple(message, repeats)\n",
        "\n",
        "if __name__ == '__main__':\n",
        "    main()"
      ],
      "metadata": {
        "colab": {
          "base_uri": "https://localhost:8080/"
        },
        "id": "TUqsEBu0yu98",
        "outputId": "bf107dd5-32b8-4520-f145-afac9393f066"
      },
      "execution_count": 18,
      "outputs": [
        {
          "output_type": "stream",
          "name": "stdout",
          "text": [
            "This program prints a message a certain number of times.\n",
            "Please type a message: I Love Pakistan!\n",
            "Enter a number of times to repeat your message: 5\n",
            "I Love Pakistan!\n",
            "I Love Pakistan!\n",
            "I Love Pakistan!\n",
            "I Love Pakistan!\n",
            "I Love Pakistan!\n"
          ]
        }
      ]
    },
    {
      "cell_type": "markdown",
      "source": [
        "\"\"\"\n",
        "# Program: 09_sentence_generator.md\n",
        "Write a program that takes a word and its part of speech, then generates a sentence\n",
        "by placing the word into an appropriate template based on the part of speech.\n",
        "\n",
        "\"\"\""
      ],
      "metadata": {
        "id": "iJdVPQkt0HaZ"
      }
    },
    {
      "cell_type": "code",
      "source": [
        "print(\"This program makes a sentence.\")\n",
        "def make_sentence(word, part_of_speech):\n",
        "\n",
        "    if part_of_speech == 0:\n",
        "        # noun\n",
        "        print(\"I am excited to add this \" + word + \" to my vast collection of them!\")\n",
        "    elif part_of_speech == 1:\n",
        "        # verb\n",
        "        print(\"It's so nice outside today it makes me want to \" + word + \"!\")\n",
        "    elif part_of_speech == 2:\n",
        "        # adjective\n",
        "        print(\"Looking out my window, the sky is big and \" + word + \"!\")\n",
        "    else:\n",
        "        print(\"Part of speech must be 0, 1, or 2! Can't make a sentence.\")\n",
        "\n",
        "def main():\n",
        "    word = input(\"Please type a noun, verb, or adjective: \")\n",
        "    print(\"Is this a noun, verb, or adjective?\")\n",
        "    part_of_speech = int(input(\"Type 0 for noun, 1 for verb, 2 for adjective: \"))\n",
        "    make_sentence(word, part_of_speech)\n",
        "\n",
        "if __name__ == '__main__':\n",
        "    main()\n"
      ],
      "metadata": {
        "colab": {
          "base_uri": "https://localhost:8080/"
        },
        "id": "3lCYMlMYzETa",
        "outputId": "b3d58392-a606-404d-b9c4-808966186163"
      },
      "execution_count": 20,
      "outputs": [
        {
          "output_type": "stream",
          "name": "stdout",
          "text": [
            "This program makes a sentence.\n",
            "Please type a noun, verb, or adjective: Ali works hard.\n",
            "Is this a noun, verb, or adjective?\n",
            "Type 0 for noun, 1 for verb, 2 for adjective: 2\n",
            "Looking out my window, the sky is big and Ali works hard.!\n"
          ]
        }
      ]
    },
    {
      "cell_type": "markdown",
      "source": [
        "\"\"\"\n",
        "# Program: 10_print_ones_digit.md\n",
        "Write a program that takes an integer and prints its ones digit using the modulo operator.\n",
        "\n",
        "\"\"\""
      ],
      "metadata": {
        "id": "Og8Rwgh11hGn"
      }
    },
    {
      "cell_type": "code",
      "source": [
        "print(\"This program prints the ones digit of a number.\")\n",
        "def print_ones_digit(num):\n",
        "     print(\"The ones digit is\", num % 10)\n",
        "\n",
        "def main():\n",
        "    num = int(input(\"Enter a number: \"))\n",
        "    print_ones_digit(num)\n",
        "\n",
        "if __name__ == '__main__':\n",
        "    main()"
      ],
      "metadata": {
        "colab": {
          "base_uri": "https://localhost:8080/"
        },
        "id": "CULrGKKh1pU7",
        "outputId": "4a002816-a976-4362-b23c-e2982b9c6c2e"
      },
      "execution_count": 22,
      "outputs": [
        {
          "output_type": "stream",
          "name": "stdout",
          "text": [
            "This program prints the ones digit of a number.\n",
            "Enter a number: 56\n",
            "The ones digit is 6\n"
          ]
        }
      ]
    }
  ]
}