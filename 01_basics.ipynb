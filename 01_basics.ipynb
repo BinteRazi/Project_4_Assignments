{
  "cells": [
    {
      "cell_type": "markdown",
      "metadata": {
        "id": "view-in-github",
        "colab_type": "text"
      },
      "source": [
        "<a href=\"https://colab.research.google.com/github/BinteRazi/Project_4_Assignments/blob/main/01_basics.ipynb\" target=\"_parent\"><img src=\"https://colab.research.google.com/assets/colab-badge.svg\" alt=\"Open In Colab\"/></a>"
      ]
    },
    {
      "cell_type": "markdown",
      "metadata": {
        "id": "XKpFTWy2kTP4"
      },
      "source": [
        "\"\"\"\n",
        "#Program: 00_joke_bot.md\n",
        "A simple joke bot that responds only to the input 'Joke'.\n",
        "If the user enters 'Joke', it prints a specific joke.\n",
        "For any other input, it responds with a message saying it only tells jokes.\n",
        "This program demonstrates basic use of constants, user input, and conditionals.\n",
        "\"\"\""
      ]
    },
    {
      "cell_type": "code",
      "execution_count": null,
      "metadata": {
        "id": "j9h1o1GEhSQg"
      },
      "outputs": [],
      "source": [
        "PROMPT: str = \"What do you want? \"\n",
        "JOKE: str = \"Here is a joke for you! Panaversity GPT - Sophia is heading out to the grocery store. A programmer tells her: get a liter of milk, and if they have eggs, get 12. Sophia returns with 13 liters of milk. The programmer asks why and Sophia replies: 'because they had eggs'\"\n",
        "SORRY: str = \"Sorry I only tell jokes.\"\n",
        "\n",
        "def main():\n",
        "    print(\"Joke Bot\")\n",
        "    user_input = input(PROMPT)\n",
        "\n",
        "    if user_input == \"Joke\":\n",
        "        print(JOKE)\n",
        "    else:\n",
        "        print(SORRY)\n",
        "\n",
        "if __name__ == '__main__':\n",
        "    main()\n"
      ]
    },
    {
      "cell_type": "markdown",
      "metadata": {
        "id": "QQqUWjKrlAob"
      },
      "source": [
        "\"\"\"\n",
        "#Program: 01_double_it.md\n",
        "This program asks the user to enter a number and repeatedly doubles it,\n",
        "printing each result until the number is 100 or greater.\n",
        "It demonstrates the use of loops and updating variable state.\n",
        "\"\"\""
      ]
    },
    {
      "cell_type": "code",
      "execution_count": null,
      "metadata": {
        "id": "aX4sj41Vk7ZY"
      },
      "outputs": [],
      "source": [
        "def main():\n",
        "    print(\"Double It\")\n",
        "    # Ask the user to enter a number\n",
        "    curr_value = int(input(\"Enter a number: \"))\n",
        "\n",
        "    # Double and print the value until it reaches 100 or more\n",
        "    while curr_value < 100:\n",
        "        curr_value = curr_value * 2\n",
        "        print(curr_value)\n",
        "\n",
        "if __name__ == '__main__':\n",
        "    main()\n",
        "\n"
      ]
    },
    {
      "cell_type": "markdown",
      "metadata": {
        "id": "_Szwd5EvmoBV"
      },
      "source": [
        "\"\"\"\n",
        "#Program: 02_liftoff.md\n",
        "This program simulates a spaceship countdown from 10 to 1,\n",
        "and then prints 'Liftoff!'. It demonstrates use of a for loop and range.\n",
        "\"\"\""
      ]
    },
    {
      "cell_type": "code",
      "execution_count": null,
      "metadata": {
        "id": "a27qiiowmnD3"
      },
      "outputs": [],
      "source": [
        "def main():\n",
        "    # Countdown from 10 to 1\n",
        "    for i in range(10, 0, -1)\n",
        "        print(i, end=\" \")\n",
        "\n",
        "    # Print Liftoff!\n",
        "    print(\"Liftoff!\")\n",
        "\n",
        "if __name__ == '__main__':\n",
        "    main()\n"
      ]
    },
    {
      "cell_type": "markdown",
      "metadata": {
        "id": "Wl02W57hn1NU"
      },
      "source": [
        "\"\"\"\n",
        "#Program: 03_guess_my_number.md\n",
        "This program generates a random number between 1 and 99 and prompts the user to guess it.\n",
        "The program gives feedback if the guess is too high or too low,\n",
        "and continues to prompt until the correct number is guessed.\n",
        "Demonstrates use of loops, conditionals, and random number generation.\n",
        "\"\"\""
      ]
    },
    {
      "cell_type": "code",
      "execution_count": null,
      "metadata": {
        "colab": {
          "background_save": true,
          "base_uri": "https://localhost:8080/"
        },
        "id": "sYpb4IiJnxrm",
        "outputId": "1fcc29ab-147a-48bf-9243-457ca64ea14f"
      },
      "outputs": [
        {
          "name": "stdout",
          "output_type": "stream",
          "text": [
            "Guess My Number!\n",
            "I am thinking of a number between 1 and 99...\n",
            "Your guess is too low\n",
            "\n",
            "Your guess is too high\n",
            "\n"
          ]
        }
      ],
      "source": [
        "import random\n",
        "\n",
        "def main():\n",
        "    print(\"Guess My Number!\")\n",
        "\n",
        "    # Generate the secret number at random!\n",
        "\n",
        "    secret_number: int = random.randint(1, 99)\n",
        "\n",
        "    print(\"I am thinking of a number between 1 and 99...\")\n",
        "\n",
        "    # Get the user's first guess\n",
        "    guess = int(input(\"Enter a guess: \"))\n",
        "\n",
        "    # Continue looping until the guess is correct\n",
        "    while guess != secret_number:\n",
        "        if guess < secret_number:\n",
        "            print(\"Your guess is too low\")\n",
        "        else:\n",
        "            print(\"Your guess is too high\")\n",
        "\n",
        "        print()\n",
        "\n",
        "        guess = int(input(\"Enter a new guess: \"))\n",
        "\n",
        "    print(\"Congrats! The number was: \" + str(secret_number))\n",
        "if __name__ == '__main__':\n",
        "    main()"
      ]
    },
    {
      "cell_type": "markdown",
      "metadata": {
        "id": "bbwkzyisq0f9"
      },
      "source": [
        "\"\"\"\n",
        "#Program: 04_random_numbers.md\n",
        "This program generates and prints 10 random numbers between 1 and 100.\n",
        "Each time you run the program, you will get different numbers.\n",
        "It demonstrates the use of the random library and loops.\n",
        "\"\"\""
      ]
    },
    {
      "cell_type": "code",
      "execution_count": null,
      "metadata": {
        "id": "r8zBLn9kqzcm"
      },
      "outputs": [],
      "source": [
        "import random\n",
        "\n",
        "N_NUMBERS: int = 10\n",
        "MIN_VALUE: int = 1\n",
        "MAX_VALUE: int = 100\n",
        "\n",
        "def main():\n",
        "    print(\"Random Numbers\")\n",
        "    # Generate and print 10 random numbers in the range 1 to 100\n",
        "    for _ in range(N_NUMBERS):\n",
        "        print(random.randint(MIN_VALUE, MAX_VALUE), end=\" \")\n",
        "\n",
        "if __name__ == '__main__':\n",
        "    main()\n"
      ]
    }
  ],
  "metadata": {
    "colab": {
      "provenance": [],
      "authorship_tag": "ABX9TyPvcV1vwbUtRN3aZ8wVljxa",
      "include_colab_link": true
    },
    "kernelspec": {
      "display_name": "Python 3",
      "name": "python3"
    },
    "language_info": {
      "name": "python"
    }
  },
  "nbformat": 4,
  "nbformat_minor": 0
}