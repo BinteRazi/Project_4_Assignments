{
  "nbformat": 4,
  "nbformat_minor": 0,
  "metadata": {
    "colab": {
      "provenance": [],
      "authorship_tag": "ABX9TyMA+nrRhIfmGMyNh9j6B7Se",
      "include_colab_link": true
    },
    "kernelspec": {
      "name": "python3",
      "display_name": "Python 3"
    },
    "language_info": {
      "name": "python"
    }
  },
  "cells": [
    {
      "cell_type": "markdown",
      "metadata": {
        "id": "view-in-github",
        "colab_type": "text"
      },
      "source": [
        "<a href=\"https://colab.research.google.com/github/BinteRazi/Project_4_Assignments/blob/main/03_if_statements.ipynb\" target=\"_parent\"><img src=\"https://colab.research.google.com/assets/colab-badge.svg\" alt=\"Open In Colab\"/></a>"
      ]
    },
    {
      "cell_type": "markdown",
      "source": [
        "\"\"\"\"\n",
        "# Program: 01_print_events.md\n",
        " Prints the first 20 even numbers starting from 0.\n",
        "\n",
        " \"\"\"\""
      ],
      "metadata": {
        "id": "kYmIEkxZhu7o"
      }
    },
    {
      "cell_type": "code",
      "execution_count": null,
      "metadata": {
        "colab": {
          "base_uri": "https://localhost:8080/"
        },
        "id": "e-qG4LpohQmw",
        "outputId": "19717df5-cf4d-45e2-9d24-82fdf7f3782a"
      },
      "outputs": [
        {
          "output_type": "stream",
          "name": "stdout",
          "text": [
            "This is Print First 20 Even Numbers\n",
            "0\n",
            "2\n",
            "4\n",
            "6\n",
            "8\n",
            "10\n",
            "12\n",
            "14\n",
            "16\n",
            "18\n",
            "20\n",
            "22\n",
            "24\n",
            "26\n",
            "28\n",
            "30\n",
            "32\n",
            "34\n",
            "36\n",
            "38\n",
            "End of Program\n"
          ]
        }
      ],
      "source": [
        "print(\"This is Print First 20 Even Numbers\")\n",
        "def even():\n",
        "    # Loop to print first 20 even numbers\n",
        "    for i in range(20):\n",
        "        print(i * 2)\n",
        "\n",
        "if __name__ == '__main__':\n",
        "    even()\n",
        "    print(\"End of Program\")\n",
        "\n",
        "\n"
      ]
    },
    {
      "cell_type": "markdown",
      "source": [
        "\"\"\"\"\n",
        "# Program: 02_international_voting_age.md\n",
        " Asks user for their age and checks if they can vote in\n",
        "Peturksbouipo, Stanlau, and Mayengua based on their voting ages.\n",
        "\n",
        " \"\"\"\""
      ],
      "metadata": {
        "id": "khBuj0aWkBTC"
      }
    },
    {
      "cell_type": "code",
      "source": [
        "print(\"This is International Voting Age Program\")\n",
        "PETURKSBOUIPO_AGE: int = 16\n",
        "STANLAU_AGE: int = 25\n",
        "MAYENGUA_AGE: int = 48\n",
        "\n",
        "\n",
        "def age():\n",
        "    user_age = int(input(\"How old are you? \"))\n",
        "\n",
        "\n",
        "    if user_age >= PETURKSBOUIPO_AGE:\n",
        "        print(\"You can vote in Peturksbouipo where the voting age is \" + str(PETURKSBOUIPO_AGE) + \".\")\n",
        "    else:\n",
        "        print(\"You cannot vote in Peturksbouipo where the voting age is \" + str(PETURKSBOUIPO_AGE) + \".\")\n",
        "\n",
        "\n",
        "    if user_age >= STANLAU_AGE:\n",
        "        print(\"You can vote in Stanlau where the voting age is \" + str(STANLAU_AGE) + \".\")\n",
        "    else:\n",
        "        print(\"You cannot vote in Stanlau where the voting age is \" + str(STANLAU_AGE) + \".\")\n",
        "\n",
        "\n",
        "    if user_age >= MAYENGUA_AGE:\n",
        "        print(\"You can vote in Mayengua where the voting age is \" + str(MAYENGUA_AGE) + \".\")\n",
        "    else:\n",
        "        print(\"You cannot vote in Mayengua where the voting age is \" + str(MAYENGUA_AGE) + \".\")\n",
        "\n",
        "if __name__ == '__main__':\n",
        "    age()"
      ],
      "metadata": {
        "colab": {
          "base_uri": "https://localhost:8080/"
        },
        "id": "qmYBagTmkb8A",
        "outputId": "7a76039a-2112-4b37-e2fd-e4fd38aadc5d"
      },
      "execution_count": null,
      "outputs": [
        {
          "output_type": "stream",
          "name": "stdout",
          "text": [
            "This is International Voting Age Program\n",
            "How old are you? 20\n",
            "You can vote in Peturksbouipo where the voting age is 16.\n",
            "You cannot vote in Stanlau where the voting age is 25.\n",
            "You cannot vote in Mayengua where the voting age is 48.\n"
          ]
        }
      ]
    },
    {
      "cell_type": "markdown",
      "source": [
        "\"\"\"\"\n",
        "# Program: 03_leap_year.md\n",
        " Asks the user for a year and checks if it is a leap year\n",
        "             based on the Gregorian calendar rules.\n",
        "\n",
        "\"\"\"\""
      ],
      "metadata": {
        "id": "Ft3ECc4JmDyZ"
      }
    },
    {
      "cell_type": "code",
      "source": [
        "print(\"This is Leap Year Checker\")\n",
        "\n",
        "def main():\n",
        "    year = int(input(\"Please input a year: \"))\n",
        "\n",
        "\n",
        "    if year % 4 == 0:\n",
        "        if year % 100 == 0:\n",
        "            if year % 400 == 0:\n",
        "                print(\"That's a leap year!\")\n",
        "            else:\n",
        "                print(\"That's not a leap year.\")\n",
        "        else:\n",
        "            print(\"That's a leap year!\")\n",
        "    else:\n",
        "        print(\"That's not a leap year.\")\n",
        "\n",
        "\n",
        "if __name__ == '__main__':\n",
        "    main()"
      ],
      "metadata": {
        "colab": {
          "base_uri": "https://localhost:8080/"
        },
        "id": "QojR9BNmmR4w",
        "outputId": "651d3fbb-daa7-4925-d288-dc99253a1403"
      },
      "execution_count": null,
      "outputs": [
        {
          "output_type": "stream",
          "name": "stdout",
          "text": [
            "This is Leap Year Checker\n",
            "Please input a year: 2004\n",
            "That's a leap year!\n"
          ]
        }
      ]
    },
    {
      "cell_type": "markdown",
      "source": [
        " \"\"\"\"\n",
        " # Program: 04_tall_enough_to_ride.md\n",
        " Asks the user for their height and checks if they're\n",
        "             tall enough to ride based on a minimum height.\n",
        "\n",
        "\"\"\"\""
      ],
      "metadata": {
        "id": "Mw5Julm0oipt"
      }
    },
    {
      "cell_type": "code",
      "source": [
        "print(\"This is Ride Height Checker\")\n",
        "MINIMUM_HEIGHT: int = 50\n",
        "\n",
        "\n",
        "def main():\n",
        "\n",
        "    height = float(input(\"How tall are you? \"))\n",
        "\n",
        "    if height >= MINIMUM_HEIGHT:\n",
        "        print(\"You're tall enough to ride!\")\n",
        "    else:\n",
        "        print(\"You're not tall enough to ride, but maybe next year!\")\n",
        "\n",
        "\n",
        "if __name__ == '__main__':\n",
        "    main()"
      ],
      "metadata": {
        "colab": {
          "base_uri": "https://localhost:8080/"
        },
        "id": "T_D6AJpeoxKa",
        "outputId": "8dc4ec5b-05bd-408c-942a-7f1d9f925749"
      },
      "execution_count": null,
      "outputs": [
        {
          "output_type": "stream",
          "name": "stdout",
          "text": [
            "This is Ride Height Checker\n",
            "How tall are you? 4.5\n",
            "You're not tall enough to ride, but maybe next year!\n"
          ]
        }
      ]
    },
    {
      "cell_type": "markdown",
      "source": [
        "\"\"\"\"\n",
        "# Program: 05_random_numbers.md\n",
        " Prints 10 random numbers in the range 1 to 100.\n",
        "\n",
        "\"\"\"\""
      ],
      "metadata": {
        "id": "NU9l-ifsp2vy"
      }
    },
    {
      "cell_type": "code",
      "source": [
        "print(\"This is Random Numbers Program\")\n",
        "import random\n",
        "\n",
        "\n",
        "N_NUMBERS: int = 10\n",
        "MIN_VALUE: int = 1\n",
        "MAX_VALUE: int = 100\n",
        "\n",
        "\n",
        "def main():\n",
        "    for _ in range(N_NUMBERS):\n",
        "        print(random.randint(MIN_VALUE, MAX_VALUE), end=\" \")\n",
        "    print()\n",
        "\n",
        "\n",
        "if __name__ == '__main__':\n",
        "    main()"
      ],
      "metadata": {
        "colab": {
          "base_uri": "https://localhost:8080/"
        },
        "id": "FlmqhcIXqVJy",
        "outputId": "cabe9f83-898c-4d7e-f007-f20de514d821"
      },
      "execution_count": null,
      "outputs": [
        {
          "output_type": "stream",
          "name": "stdout",
          "text": [
            "This is Random Numbers Program\n",
            "96 27 72 52 60 74 76 44 39 85 \n"
          ]
        }
      ]
    }
  ]
}