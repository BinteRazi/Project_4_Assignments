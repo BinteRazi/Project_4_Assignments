{
  "nbformat": 4,
  "nbformat_minor": 0,
  "metadata": {
    "colab": {
      "provenance": [],
      "authorship_tag": "ABX9TyMAmsKmtFHCE9lPIle7bSox",
      "include_colab_link": true
    },
    "kernelspec": {
      "name": "python3",
      "display_name": "Python 3"
    },
    "language_info": {
      "name": "python"
    }
  },
  "cells": [
    {
      "cell_type": "markdown",
      "metadata": {
        "id": "view-in-github",
        "colab_type": "text"
      },
      "source": [
        "<a href=\"https://colab.research.google.com/github/BinteRazi/Project_4_Assignments/blob/main/02_intermediate_Intro_to_Python_.ipynb\" target=\"_parent\"><img src=\"https://colab.research.google.com/assets/colab-badge.svg\" alt=\"Open In Colab\"/></a>"
      ]
    },
    {
      "cell_type": "markdown",
      "source": [
        "\"\"\"\n",
        "#Program: Milestone 1 MarsWeight\n",
        "\n",
        "Prompts the user for a weight on Earth and prints the equivalent weight on Mars.\n",
        "\"\"\""
      ],
      "metadata": {
        "id": "4rovqx1BKNPf"
      }
    },
    {
      "cell_type": "code",
      "source": [
        "# We use constants!\n",
        "MARS_MULTIPLE = 0.378\n",
        "\n",
        "def main():\n",
        "    print(\"\\n\" + \"=\" * 40)\n",
        "    print(\"        Mars Weight Calculator       \")\n",
        "    print(\"=\" * 40 + \"\\n\")\n",
        "\n",
        "    earth_weight_str = input('Enter a weight on Earth: ')\n",
        "\n",
        "    # Convert to numeric value\n",
        "    earth_weight = float(earth_weight_str)\n",
        "\n",
        "    # Calculate Mars weight\n",
        "    mars_weight = earth_weight * MARS_MULTIPLE\n",
        "    rounded_mars_weight = round(mars_weight, 2)\n",
        "\n",
        "    # Output\n",
        "    print('The equivalent weight on Mars: ' + str(rounded_mars_weight))\n",
        "\n",
        "if __name__ == '__main__':\n",
        "    main()\n"
      ],
      "metadata": {
        "id": "-wgM_vmsKL_v"
      },
      "execution_count": null,
      "outputs": []
    },
    {
      "cell_type": "markdown",
      "source": [
        "\"\"\"\n",
        "#Program: Milestone 2 PlanetaryWeight\n",
        "Prompts the user for a weight on Earth and a planet (in separate inputs).\n",
        "Then prints the equivalent weight on that planet.\n",
        "\n",
        "\"\"\""
      ],
      "metadata": {
        "id": "Nxp-W9-fPfsm"
      }
    },
    {
      "cell_type": "code",
      "source": [
        "# Gravitational constants\n",
        "MERCURY_GRAVITY = 0.376\n",
        "VENUS_GRAVITY = 0.889\n",
        "MARS_GRAVITY = 0.378\n",
        "JUPITER_GRAVITY = 2.36\n",
        "SATURN_GRAVITY = 1.081\n",
        "URANUS_GRAVITY = 0.815\n",
        "NEPTUNE_GRAVITY = 1.14\n",
        "\n",
        "def main():\n",
        "    print(\"\\n\" + \"=\" * 40)\n",
        "    print(\"        Planetary Weight Calculator       \")\n",
        "    print(\"=\" * 40 + \"\\n\")\n",
        "\n",
        "    # Prompt the user for their weight on Earth\n",
        "    earth_weight = float(input(\"Enter a weight on Earth: \"))\n",
        "\n",
        "    # Prompt the user for the name of a planet\n",
        "    planet = input(\"Enter a planet: \")\n",
        "\n",
        "    # Determine the gravitational constant\n",
        "    if planet == \"Mercury\":\n",
        "        gravity_constant = MERCURY_GRAVITY\n",
        "    elif planet == \"Venus\":\n",
        "        gravity_constant = VENUS_GRAVITY\n",
        "    elif planet == \"Mars\":\n",
        "        gravity_constant = MARS_GRAVITY\n",
        "    elif planet == \"Jupiter\":\n",
        "        gravity_constant = JUPITER_GRAVITY\n",
        "    elif planet == \"Saturn\":\n",
        "        gravity_constant = SATURN_GRAVITY\n",
        "    elif planet == \"Uranus\":\n",
        "        gravity_constant = URANUS_GRAVITY\n",
        "    else:  # Neptune assumed\n",
        "        gravity_constant = NEPTUNE_GRAVITY\n",
        "\n",
        "    # Calculate and display result\n",
        "    planetary_weight = earth_weight * gravity_constant\n",
        "    rounded_weight = round(planetary_weight, 2)\n",
        "    print(\"The equivalent weight on \" + planet + \": \" + str(rounded_weight))\n",
        "\n",
        "if __name__ == '__main__':\n",
        "    main()\n"
      ],
      "metadata": {
        "id": "OxkMmx20PbqC"
      },
      "execution_count": null,
      "outputs": []
    }
  ]
}