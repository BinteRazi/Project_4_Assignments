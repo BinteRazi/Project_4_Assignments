{
  "nbformat": 4,
  "nbformat_minor": 0,
  "metadata": {
    "colab": {
      "provenance": [],
      "authorship_tag": "ABX9TyO2UOgkjRFNsHCgUzyv5/ud",
      "include_colab_link": true
    },
    "kernelspec": {
      "name": "python3",
      "display_name": "Python 3"
    },
    "language_info": {
      "name": "python"
    }
  },
  "cells": [
    {
      "cell_type": "markdown",
      "metadata": {
        "id": "view-in-github",
        "colab_type": "text"
      },
      "source": [
        "<a href=\"https://colab.research.google.com/github/BinteRazi/Project_4_Assignments/blob/main/01_expressions.ipynb\" target=\"_parent\"><img src=\"https://colab.research.google.com/assets/colab-badge.svg\" alt=\"Open In Colab\"/></a>"
      ]
    },
    {
      "cell_type": "markdown",
      "source": [
        "\"\"\"\n",
        "Program:01_dicesimulator.md\n",
        "----------------------\n",
        "Simulate rolling two dice, three times. Prints\n",
        "the results of each die roll. This program is used\n",
        "to show how variable scope works.\n",
        "\"\"\"\n"
      ],
      "metadata": {
        "id": "HWMmcRPQF2wm"
      }
    },
    {
      "cell_type": "code",
      "source": [
        "# Import the random library\n",
        "import random\n",
        "\n",
        "print(\"This is a Dice Simulator\")\n",
        "\n",
        "# Number of sides on each die to roll\n",
        "NUM_SIDES = 6\n",
        "\n",
        "def roll_dice():\n",
        "    die1: int = random.randint(1, NUM_SIDES)\n",
        "    die2: int = random.randint(1, NUM_SIDES)\n",
        "    total: int = die1 + die2\n",
        "    print(\"Rolled:\", die1, \"+\", die2, \"=\", total)\n",
        "\n",
        "def main():\n",
        "    die1: int = 10\n",
        "    print(\"die1 in main() starts as: \" + str(die1))\n",
        "    roll_dice()\n",
        "    roll_dice()\n",
        "    roll_dice()\n",
        "    print(\"die1 in main() is still: \" + str(die1))\n",
        "\n",
        "\n",
        "\n",
        "if __name__ == '__main__':\n",
        "    main()\n"
      ],
      "metadata": {
        "colab": {
          "base_uri": "https://localhost:8080/"
        },
        "id": "tXefG8_tF6Td",
        "outputId": "619ace07-aef5-4d46-c9d3-257ab28393cd"
      },
      "execution_count": null,
      "outputs": [
        {
          "output_type": "stream",
          "name": "stdout",
          "text": [
            "This is a Dice Simulator\n",
            "die1 in main() starts as: 10\n",
            "Rolled: 5 + 6 = 11\n",
            "Rolled: 2 + 2 = 4\n",
            "Rolled: 4 + 4 = 8\n",
            "die1 in main() is still: 10\n"
          ]
        }
      ]
    },
    {
      "cell_type": "markdown",
      "source": [
        "\"\"\"\n",
        "Program: 02_e=mc2.md\n",
        "-----------------------------\n",
        "Simulate converting mass to energy using Einstein's equation E = mc².\n",
        "This program takes mass in kilograms and calculates the equivalent energy.\n",
        "This program demonstrates how variable scope works with mass-energy conversion.\n",
        "\"\"\""
      ],
      "metadata": {
        "id": "7nAYPjVlMkaL"
      }
    },
    {
      "cell_type": "code",
      "execution_count": 2,
      "metadata": {
        "colab": {
          "base_uri": "https://localhost:8080/"
        },
        "id": "ltk_8unAFpfE",
        "outputId": "89160438-c5e2-43b9-f728-331dd3353630"
      },
      "outputs": [
        {
          "output_type": "stream",
          "name": "stdout",
          "text": [
            "This is a Mass-Energy Calculator!\n",
            "Enter kilos of mass: 45\n",
            "\n",
            "e = m * C^2...\n",
            "m = 45.0 kg\n",
            "C = 299792458 m/s\n",
            "4.044398304315679e+18 joules of energy!\n",
            "\n"
          ]
        }
      ],
      "source": [
        "# Mass-Energy Calculator\n",
        "print(\"This is a Mass-Energy Calculator!\")\n",
        "C: float = 299792458\n",
        "\n",
        "def energy():\n",
        "    m: float = float(input(\"Enter kilos of mass: \"))\n",
        "    e = m * C ** 2\n",
        "    print(\"\\ne = m * C^2...\")\n",
        "    print(\"m =\", m, \"kg\")\n",
        "    print(\"C =\", C, \"m/s\")\n",
        "    print(e, \"joules of energy!\\n\")\n",
        "\n",
        "energy()\n",
        "\n"
      ]
    },
    {
      "cell_type": "markdown",
      "source": [
        "\"\"\"\n",
        "Program:03_feet_to_inches.md\n",
        "------------------------\n",
        "Converts feet to inches. There are 12 inches per foot.\n",
        "Foot is the singular, and feet is the plural.\n",
        "\"\"\""
      ],
      "metadata": {
        "id": "261tEYLKNTGA"
      }
    },
    {
      "cell_type": "code",
      "source": [
        "# Conversion factor: 12 inches in 1 foot\n",
        "print(\"This is a Feet to Inches Converter!\")\n",
        "INCHES_IN_FOOT: int = 12\n",
        "\n",
        "def foot():\n",
        "    feet: float = float(input(\"Enter number of feet: \"))\n",
        "\n",
        "    # Convert feet to inches\n",
        "    inches: float = feet * INCHES_IN_FOOT\n",
        "\n",
        "    # Print the result\n",
        "    print(f\"That is {inches} inches!\")\n",
        "\n",
        "if __name__ == '__main__':\n",
        "    foot()"
      ],
      "metadata": {
        "id": "hySQO9n8NgG2",
        "colab": {
          "base_uri": "https://localhost:8080/"
        },
        "outputId": "2c553890-7855-4992-afbd-b2c7de37ef0f"
      },
      "execution_count": 3,
      "outputs": [
        {
          "output_type": "stream",
          "name": "stdout",
          "text": [
            "This is a Feet to Inches Converter!\n",
            "Enter number of feet: 18\n",
            "That is 216.0 inches!\n"
          ]
        }
      ]
    },
    {
      "cell_type": "markdown",
      "source": [
        "\"\"\"\n",
        "# **Program: 04_pythagorean_theorem**.md\n",
        " Calculates the hypotenuse of a right triangle using the Pythagorean Theorem.\n",
        " Demonstrates input handling and math operations in Python\n",
        "\"\"\"\n"
      ],
      "metadata": {
        "id": "-6Ze6SC5fdvE"
      }
    },
    {
      "cell_type": "code",
      "source": [
        "import math\n",
        "print(\"This is a Pythagorean Theorem Calculator!\")\n",
        "def triangle():\n",
        "    ab:float = float(input(\"Enter the length of AB: \"))\n",
        "    ac:float = float(input(\"Enter the length of AC: \"))\n",
        "\n",
        "    bc = math.sqrt(ab**2 + ac**2)\n",
        "    print(f\"The length of BC (the hypotenuse) is: {bc}\")\n",
        "\n",
        "\n",
        "if __name__ == '__main__':\n",
        "    triangle()\n"
      ],
      "metadata": {
        "colab": {
          "base_uri": "https://localhost:8080/"
        },
        "id": "96pPjVfTfspB",
        "outputId": "be636a18-86d6-4838-d3fb-83f765fa7a37"
      },
      "execution_count": 4,
      "outputs": [
        {
          "output_type": "stream",
          "name": "stdout",
          "text": [
            "This is a Pythagorean Theorem Calculator!\n",
            "Enter the length of AB: 56\n",
            "Enter the length of AC: 89\n",
            "The length of BC (the hypotenuse) is: 105.152270541344\n"
          ]
        }
      ]
    },
    {
      "cell_type": "markdown",
      "source": [
        "\"\"\"\n",
        "\n",
        "# Program: 05_remainder_division.md\n",
        " Asks the user for two integers and prints the quotient and remainder of their division. Demonstrates integer division, modulo, and user input in Python.\n",
        "\"\"\"\n"
      ],
      "metadata": {
        "id": "DR73wTKGkzO3"
      }
    },
    {
      "cell_type": "code",
      "source": [
        "print(\"This is a Division Calculator!\")\n",
        "def main():\n",
        "    # Get the numbers we want to divide\n",
        "    dividend: int = int(input(\"Please enter an integer to be divided: \"))\n",
        "    divisor: int = int(input(\"Please enter an integer to divide by: \"))\n",
        "\n",
        "    # Calculate quotient and remainder\n",
        "    quotient: int = dividend // divisor\n",
        "    remainder: int = dividend % divisor\n",
        "\n",
        "    # Print result\n",
        "    print(\"The result of this division is \" + str(quotient) + \" with a remainder of \" + str(remainder))\n",
        "\n",
        "if __name__ == '__main__':\n",
        "    main()"
      ],
      "metadata": {
        "colab": {
          "base_uri": "https://localhost:8080/"
        },
        "id": "ZNsIDu1iiKmY",
        "outputId": "39b9f2d6-19a8-448f-e3a8-7eacb0d66ca8"
      },
      "execution_count": 6,
      "outputs": [
        {
          "output_type": "stream",
          "name": "stdout",
          "text": [
            "This is a Division Calculator!\n",
            "Please enter an integer to be divided: 45\n",
            "Please enter an integer to divide by: 66\n",
            "The result of this division is 0 with a remainder of 45\n"
          ]
        }
      ]
    },
    {
      "cell_type": "markdown",
      "source": [
        "\"\"\"\n",
        "#Program: 06_rolldice.md\n",
        "Description: Simulates rolling two 6-sided dice and prints the results of each roll and their total. Demonstrates use of the random module and simple arithmetic in Python.\n",
        "\"\"\""
      ],
      "metadata": {
        "id": "m89iJHeIjSEA"
      }
    },
    {
      "cell_type": "code",
      "source": [
        "import random\n",
        "print(\"This is a Dice Simulator\")\n",
        "# Number of sides on each die\n",
        "NUM_SIDES: int = 6\n",
        "\n",
        "def dice():\n",
        "\n",
        "    die1: int = random.randint(1, NUM_SIDES)\n",
        "    die2: int = random.randint(1, NUM_SIDES)\n",
        "\n",
        "    total: int = die1 + die2\n",
        "\n",
        "    # Output results\n",
        "    print(\"Dice have\", NUM_SIDES, \"sides each.\")\n",
        "    print(\"First die:\", die1)\n",
        "    print(\"Second die:\", die2)\n",
        "    print(\"Total of two dice:\", total)\n",
        "\n",
        "if __name__ == '__main__':\n",
        "    dice()"
      ],
      "metadata": {
        "colab": {
          "base_uri": "https://localhost:8080/"
        },
        "id": "-vkzqWMEjHU-",
        "outputId": "a2198fef-e2d8-478f-a5a2-a64f080df810"
      },
      "execution_count": 7,
      "outputs": [
        {
          "output_type": "stream",
          "name": "stdout",
          "text": [
            "Dice have 6 sides each.\n",
            "First die: 1\n",
            "Second die: 3\n",
            "Total of two dice: 4\n"
          ]
        }
      ]
    },
    {
      "cell_type": "markdown",
      "source": [
        "\"\"\"\n",
        "#Program: 06_seconds_in_year.md\n",
        "Calculates the number of seconds in a non-leap year using constants. Demonstrates constant usage and basic arithmetic operations in Python.\n",
        "\"\"\""
      ],
      "metadata": {
        "id": "B0vBr-T-okUM"
      }
    },
    {
      "cell_type": "code",
      "source": [
        "# Constants\n",
        "print(\"This is a Seconds in a Year Calculator!\")\n",
        "DAYS_PER_YEAR: int = 365\n",
        "HOURS_PER_DAY: int = 24\n",
        "MIN_PER_HOUR: int = 60\n",
        "SEC_PER_MIN: int = 60\n",
        "\n",
        "def seconds():\n",
        "    seconds_per_year = DAYS_PER_YEAR * HOURS_PER_DAY * MIN_PER_HOUR * SEC_PER_MIN\n",
        "    print(f\"There are {seconds_per_year} seconds in a year!\")\n",
        "\n",
        "if __name__ == '__main__':\n",
        "    seconds()"
      ],
      "metadata": {
        "colab": {
          "base_uri": "https://localhost:8080/"
        },
        "id": "DBbkDW5Co19U",
        "outputId": "6d0b003a-1af3-4a9b-c682-3093d3236adc"
      },
      "execution_count": 8,
      "outputs": [
        {
          "output_type": "stream",
          "name": "stdout",
          "text": [
            "This is a Seconds in a Year Calculator!\n",
            "There are 31536000 seconds in a year!\n"
          ]
        }
      ]
    },
    {
      "cell_type": "markdown",
      "source": [
        "\"\"\"\n",
        "#Program: 05_mad_libs.py\n",
        " Prompts the user for an adjective, a noun, and a verb, then creates a fun sentence. Demonstrates string input, string concatenation, and user interaction in Python.\n",
        "\"\"\""
      ],
      "metadata": {
        "id": "bz7Xo_U_prGd"
      }
    },
    {
      "cell_type": "code",
      "source": [
        "print(\"This is a Mad Libs Generator!\")\n",
        "SENTENCE_START: str = \"Code in Place is fun. I learned to program and used Python to make my \"\n",
        "\n",
        "def main():\n",
        "    # Get the three words from the user\n",
        "    adjective: str = input(\"Please type an adjective and press enter: \")\n",
        "    noun: str = input(\"Please type a noun and press enter: \")\n",
        "    verb: str = input(\"Please type a verb and press enter: \")\n",
        "\n",
        "    # Output the completed sentence\n",
        "    print(f\"{SENTENCE_START}{adjective} {noun} {verb}!\")\n",
        "\n",
        "if __name__ == '__main__':\n",
        "    main()"
      ],
      "metadata": {
        "colab": {
          "base_uri": "https://localhost:8080/"
        },
        "id": "JqVFEEygpy0Q",
        "outputId": "fdfe454b-ad2d-4105-d60a-cc6f50401cbd"
      },
      "execution_count": 12,
      "outputs": [
        {
          "output_type": "stream",
          "name": "stdout",
          "text": [
            "This is a Mad Libs Generator!\n",
            "Please type an adjective and press enter: great\n",
            "Please type a noun and press enter: plant\n",
            "Please type a verb and press enter: fly\n",
            "Code in Place is fun. I learned to program and used Python to make my great plant fly!\n"
          ]
        }
      ]
    }
  ]
}