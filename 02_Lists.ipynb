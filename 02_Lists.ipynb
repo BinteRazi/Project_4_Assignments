{
  "nbformat": 4,
  "nbformat_minor": 0,
  "metadata": {
    "colab": {
      "provenance": [],
      "gpuType": "T4",
      "authorship_tag": "ABX9TyMI995KTWLtYccxBE4Z1wjq",
      "include_colab_link": true
    },
    "kernelspec": {
      "name": "python3",
      "display_name": "Python 3"
    },
    "language_info": {
      "name": "python"
    }
  },
  "cells": [
    {
      "cell_type": "markdown",
      "metadata": {
        "id": "view-in-github",
        "colab_type": "text"
      },
      "source": [
        "<a href=\"https://colab.research.google.com/github/BinteRazi/Project_4_Assignments/blob/main/02_Lists.ipynb\" target=\"_parent\"><img src=\"https://colab.research.google.com/assets/colab-badge.svg\" alt=\"Open In Colab\"/></a>"
      ]
    },
    {
      "cell_type": "markdown",
      "source": [
        "\"\"\"\n",
        "Program: 01_add_many_number.md\n",
        "------------------------\n",
        "This program takes a list of numbers and calculates the sum of those numbers.\n",
        "It demonstrates a simple approach to adding multiple values in a list using a loop.\n",
        "The program is structured with a function to calculate the sum and a main function to demonstrate usage.\n",
        "\"\"\""
      ],
      "metadata": {
        "id": "4Je78zFuuO2g"
      }
    },
    {
      "cell_type": "code",
      "execution_count": null,
      "metadata": {
        "colab": {
          "base_uri": "https://localhost:8080/"
        },
        "id": "x9OETHnMtL7B",
        "outputId": "5b906a21-d116-41c7-dfd3-829773fa20bc"
      },
      "outputs": [
        {
          "output_type": "stream",
          "name": "stdout",
          "text": [
            "This is an Add many Numbers\n",
            "21\n"
          ]
        }
      ],
      "source": [
        "print(\"This is an Add many Numbers\")\n",
        "def add_many_numbers(numbers: list[int]) -> int:\n",
        "\n",
        "    total_so_far: int = 0\n",
        "    for number in numbers:\n",
        "        total_so_far += number\n",
        "    return total_so_far\n",
        "\n",
        "\n",
        "def main():\n",
        "    numbers: list[int] = [1, 2, 3, 4, 5, 6]\n",
        "    sum_of_numbers: int = add_many_numbers(numbers)\n",
        "    print(sum_of_numbers)\n",
        "\n",
        "\n",
        "if __name__ == '__main__':\n",
        "    main()\n"
      ]
    },
    {
      "cell_type": "markdown",
      "source": [
        "\"\"\"\n",
        "Program:02_double_list.md\n",
        "--------------------\n",
        "This program takes a list of numbers and doubles each element.\n",
        "The program demonstrates how to modify elements of a list using a loop.\n",
        "\"\"\""
      ],
      "metadata": {
        "id": "Sdgaag6NwHni"
      }
    },
    {
      "cell_type": "code",
      "source": [
        "print(\"This is a double list\")\n",
        "def main():\n",
        "    numbers: list[int] = [1, 2, 3, 4]\n",
        "\n",
        "\n",
        "    for i in range(len(numbers)):\n",
        "        numbers[i] *= 2\n",
        "\n",
        "    print(numbers)\n",
        "\n",
        "if __name__ == '__main__':\n",
        "    main()"
      ],
      "metadata": {
        "colab": {
          "base_uri": "https://localhost:8080/"
        },
        "id": "S05LFilRwPbl",
        "outputId": "f5ea9fd8-693e-44ab-c5dd-bb64f22ec080"
      },
      "execution_count": null,
      "outputs": [
        {
          "output_type": "stream",
          "name": "stdout",
          "text": [
            "[2, 4, 6, 8]\n"
          ]
        }
      ]
    },
    {
      "cell_type": "markdown",
      "source": [
        " \"\"\"\n",
        " # Program: 04_flowing_with_data_structures.md\n",
        "\n",
        "This program takes a list and a string of data, then adds three copies of the string to the list. The program demonstrates how changes to mutable data types, such as lists, persist outside the function even if nothing is returned.\n",
        "\n",
        "\"\"\""
      ],
      "metadata": {
        "id": "aLKCnj4N3WSo"
      }
    },
    {
      "cell_type": "code",
      "source": [
        "print(\"This is a flowing with data structures.\")\n",
        "def add_three_copies(my_list, data):\n",
        "\n",
        "    for i in range(3):\n",
        "        my_list.append(data)\n",
        "\n",
        "\n",
        "\n",
        "def main():\n",
        "    message = input(\"Enter a message to copy: \")\n",
        "    my_list = []\n",
        "    print(\"List before:\", my_list)\n",
        "    add_three_copies(my_list, message)\n",
        "    print(\"List after:\", my_list)\n",
        "\n",
        "if __name__ == \"__main__\":\n",
        "    main()\n"
      ],
      "metadata": {
        "colab": {
          "base_uri": "https://localhost:8080/"
        },
        "id": "Bp6gnqni5pvn",
        "outputId": "b6069727-0d12-41d8-ac3a-75ec4a18d2b5"
      },
      "execution_count": null,
      "outputs": [
        {
          "output_type": "stream",
          "name": "stdout",
          "text": [
            "This is a flowing with data structures.\n",
            "Enter a message to copy: i love Pakistan\n",
            "List before: []\n",
            "List after: ['i love Pakistan', 'i love Pakistan', 'i love Pakistan']\n"
          ]
        }
      ]
    },
    {
      "cell_type": "markdown",
      "source": [
        "\"\"\"\n",
        "#Program: 05_get_first_element.md\n",
        "This program prompts the user to input elements one by one and adds them to a list. It then prints the first element of the list using the get_first_element() function. The list is guaranteed to be non-empty.\n",
        "\n",
        "\"\"\""
      ],
      "metadata": {
        "id": "vrIbNnaQ7182"
      }
    },
    {
      "cell_type": "code",
      "source": [
        "print(\"This is Get First Element\")\n",
        "def get_first_element(lst):\n",
        "    \"\"\"\n",
        "    Prints the first element of a provided list.\n",
        "    \"\"\"\n",
        "    print(lst[0])\n",
        "\n",
        "\n",
        "\n",
        "def get_lst():\n",
        "    \"\"\"\n",
        "    Prompts the user to enter one element of the list at a time and returns the resulting list.\n",
        "    \"\"\"\n",
        "    lst = []\n",
        "    elem: str = input(\"Please enter an element of the list or press enter to stop. \")\n",
        "    while elem != \"\":\n",
        "        lst.append(elem)\n",
        "        elem = input(\"Please enter an element of the list or press enter to stop. \")\n",
        "    return lst\n",
        "\n",
        "def main():\n",
        "    lst = get_lst()\n",
        "    get_first_element(lst)\n",
        "\n",
        "if __name__ == '__main__':\n",
        "    main()\n"
      ],
      "metadata": {
        "colab": {
          "base_uri": "https://localhost:8080/"
        },
        "id": "ARhOKtty7ZeL",
        "outputId": "f9ae5ce9-0d6d-4235-f939-669293d5221e"
      },
      "execution_count": null,
      "outputs": [
        {
          "output_type": "stream",
          "name": "stdout",
          "text": [
            "This is Get First Element\n",
            "Please enter an element of the list or press enter to stop. 45\n",
            "Please enter an element of the list or press enter to stop. \n",
            "45\n"
          ]
        }
      ]
    },
    {
      "cell_type": "markdown",
      "source": [
        "\"\"\"\"\n",
        "#Program: 06_get_last_element.md\n",
        "This program prompts the user to input elements of a list one at a time. Once the input is complete, it prints the last element of the list. This demonstrates how to access elements by index, particularly the last element using either len(lst) - 1 or negative indexing with -1.\n",
        "\n",
        "\"\"\"\""
      ],
      "metadata": {
        "id": "4-FIB1-Q-JBn"
      }
    },
    {
      "cell_type": "code",
      "source": [
        "print(\"This is Get Last Element\")\n",
        "def get_last_element(lst):\n",
        "    \"\"\"\n",
        "\n",
        "    Prints the last element of the provided list.\n",
        "    \"\"\"\n",
        "\n",
        "    print(lst[len(lst) - 1])\n",
        "\n",
        "def get_lst():\n",
        "    \"\"\"\n",
        "    Prompts the user to enter one element of the list at a time and returns the resulting list.\n",
        "    \"\"\"\n",
        "    lst = []\n",
        "    elem = input(\"Please enter an element of the list or press enter to stop. \")\n",
        "    while elem != \"\":\n",
        "        lst.append(elem)\n",
        "        elem = input(\"Please enter an element of the list or press enter to stop. \")\n",
        "    return lst\n",
        "\n",
        "def main():\n",
        "    lst = get_lst()\n",
        "    get_last_element(lst)\n",
        "\n",
        "if __name__ == '__main__':\n",
        "    main()\n",
        "\n"
      ],
      "metadata": {
        "colab": {
          "base_uri": "https://localhost:8080/"
        },
        "id": "-Ep2KSBm-YSg",
        "outputId": "3fc81053-e77a-4a5d-d9c7-ddd0e921dacb"
      },
      "execution_count": null,
      "outputs": [
        {
          "output_type": "stream",
          "name": "stdout",
          "text": [
            "This is Get Last Element\n",
            "Please enter an element of the list or press enter to stop. 56\n",
            "Please enter an element of the list or press enter to stop. \n",
            "56\n"
          ]
        }
      ]
    },
    {
      "cell_type": "markdown",
      "source": [
        "\"\"\"\n",
        "#Program:07_get_list.md\n",
        "This program continuously prompts the user to enter values which are added to a list one at a time. The input loop stops when the user presses enter without typing anything. The final list is then printed.\n",
        "\n",
        "\"\"\""
      ],
      "metadata": {
        "id": "3sYNGxKIA36F"
      }
    },
    {
      "cell_type": "code",
      "source": [
        "print(\"This is Input to List\")\n",
        "def main():\n",
        "    lst = []\n",
        "    val = input(\"Enter a value: \")\n",
        "\n",
        "    while val:\n",
        "        lst.append(val)\n",
        "        val = input(\"Enter a value: \")\n",
        "\n",
        "    print(\"Here's the list:\", lst)\n",
        "\n",
        "\n",
        "if __name__ == '__main__':\n",
        "    main()\n"
      ],
      "metadata": {
        "colab": {
          "base_uri": "https://localhost:8080/"
        },
        "id": "0Vm0TyvpAff0",
        "outputId": "0e19e8e1-0672-467f-f447-804408895b0a"
      },
      "execution_count": null,
      "outputs": [
        {
          "output_type": "stream",
          "name": "stdout",
          "text": [
            "This is Input to List\n",
            "Enter a value: 6\n",
            "Enter a value: 7\n",
            "Enter a value: 8\n",
            "Enter a value: 8\n",
            "Enter a value: 7\n",
            "Enter a value: 9\n",
            "Enter a value: \n",
            "Here's the list: ['6', '7', '8', '8', '7', '9']\n"
          ]
        }
      ]
    },
    {
      "cell_type": "markdown",
      "source": [
        "\"\"\"\n",
        "#Program: 08_shorten_list.md\n",
        "\n",
        "Description:\n",
        "This program allows the user to input elements into a list one at a time. Once complete, the program removes elements from the end of the list and prints each removed item until the list has only MAX_LENGTH items remaining.\n",
        "If the list is already shorter than or equal to MAX_LENGTH, no items are remove.\n",
        "\n",
        "\"\"\""
      ],
      "metadata": {
        "id": "-Bei_3X2B1_x"
      }
    },
    {
      "cell_type": "code",
      "source": [
        "print(\"This is Shorten List\")\n",
        "MAX_LENGTH: int = 3\n",
        "\n",
        "def shorten(lst):\n",
        "    \"\"\"\n",
        "    Removes elements from the end of the list until it is MAX_LENGTH long.\n",
        "    Prints each item it removes.\n",
        "    \"\"\"\n",
        "    while len(lst) > MAX_LENGTH:\n",
        "        last_elem = lst.pop()\n",
        "        print(last_elem)\n",
        "\n",
        "\n",
        "\n",
        "def get_lst():\n",
        "    \"\"\"\n",
        "    Prompts the user to enter one element of the list at a time and returns the resulting list.\n",
        "    \"\"\"\n",
        "    lst = []\n",
        "    elem = input(\"Please enter an element of the list or press enter to stop. \")\n",
        "    while elem != \"\":\n",
        "        lst.append(elem)\n",
        "        elem = input(\"Please enter an element of the list or press enter to stop. \")\n",
        "    return lst\n",
        "\n",
        "def main():\n",
        "    lst = get_lst()\n",
        "    shorten(lst)\n",
        "\n",
        "if __name__ == '__main__':\n",
        "    main()\n",
        "\n"
      ],
      "metadata": {
        "colab": {
          "base_uri": "https://localhost:8080/"
        },
        "id": "qnA5Yo8kCCdC",
        "outputId": "960925ed-aa38-46fb-fd8d-09145955a896"
      },
      "execution_count": null,
      "outputs": [
        {
          "name": "stdout",
          "output_type": "stream",
          "text": [
            "This is Shorten List\n",
            "Please enter an element of the list or press enter to stop. 4\n",
            "Please enter an element of the list or press enter to stop. 7\n",
            "Please enter an element of the list or press enter to stop. 6\n",
            "Please enter an element of the list or press enter to stop. \n"
          ]
        }
      ]
    }
  ]
}