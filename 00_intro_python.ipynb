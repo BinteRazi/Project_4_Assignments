{
  "nbformat": 4,
  "nbformat_minor": 0,
  "metadata": {
    "colab": {
      "provenance": [],
      "gpuType": "T4",
      "authorship_tag": "ABX9TyOSNOahtUwoxDK6vIQSNOrX",
      "include_colab_link": true
    },
    "kernelspec": {
      "name": "python3",
      "display_name": "Python 3"
    },
    "language_info": {
      "name": "python"
    }
  },
  "cells": [
    {
      "cell_type": "markdown",
      "metadata": {
        "id": "view-in-github",
        "colab_type": "text"
      },
      "source": [
        "<a href=\"https://colab.research.google.com/github/BinteRazi/Project_4_Assignments/blob/main/00_intro_python.ipynb\" target=\"_parent\"><img src=\"https://colab.research.google.com/assets/colab-badge.svg\" alt=\"Open In Colab\"/></a>"
      ]
    },
    {
      "cell_type": "markdown",
      "source": [
        "\"\"\"\n",
        "Program: 01 add_two_numbers\n",
        "--------------------\n",
        "This program asks the\n",
        "user for two integers and prints their sum.\n",
        "\"\"\""
      ],
      "metadata": {
        "id": "Uh8vM_AxM6M8"
      }
    },
    {
      "cell_type": "code",
      "execution_count": null,
      "metadata": {
        "colab": {
          "base_uri": "https://localhost:8080/"
        },
        "id": "QUzknb7tMcdU",
        "outputId": "0276b3fb-c99c-4a48-82de-8d74886b3dab"
      },
      "outputs": [
        {
          "output_type": "stream",
          "name": "stdout",
          "text": [
            "This program 01 Adds two Numbers.\n",
            "Enter the first number: 2\n",
            "Enter the second number: 6\n",
            "The total is 8.\n"
          ]
        }
      ],
      "source": [
        "def main():\n",
        "    print(\"This program Adds two Numbers.\")\n",
        "\n",
        "    # Prompt and convert first number\n",
        "    num1 = int(input(\"Enter the first number: \"))\n",
        "\n",
        "    # Prompt and convert second number\n",
        "    num2 = int(input(\"Enter the second number: \"))\n",
        "\n",
        "    # Calculate and display the sum\n",
        "    total = num1 + num2\n",
        "    print(\"The total is \" + str(total) + \".\")\n",
        "\n",
        "\n",
        "if __name__ == '__main__':\n",
        "    main()\n"
      ]
    },
    {
      "cell_type": "markdown",
      "source": [
        "\"\"\"\n",
        "Program: 02 favorite_animal_bot\n",
        "----------------------------\n",
        "This program asks the user what their favorite animal is,\n",
        "and responds by saying that it's the program's favorite too!\n",
        "\"\"\""
      ],
      "metadata": {
        "id": "Q_BTQC4kTg9n"
      }
    },
    {
      "source": [
        "def bot():\n",
        "    print(\"This program an Agreement Bot.\")\n",
        "\n",
        "    animal = str(input(\"What's your favorite animal? \"))\n",
        "    print(f'My favourite animal is also {animal}!')\n",
        "\n",
        "if __name__ == '__main__':\n",
        "    bot()"
      ],
      "cell_type": "code",
      "metadata": {
        "id": "nkskfVrcSYJH",
        "colab": {
          "base_uri": "https://localhost:8080/"
        },
        "outputId": "e0f28e12-c8d9-4285-b047-3c789ede65a4"
      },
      "execution_count": null,
      "outputs": [
        {
          "output_type": "stream",
          "name": "stdout",
          "text": [
            "This program 02 Agreement Bot.\n",
            "What's your favorite animal? cat\n",
            "My favourite animal is also cat!\n"
          ]
        }
      ]
    },
    {
      "cell_type": "markdown",
      "source": [
        "\"\"\"\n",
        "Program: 03 fahrenheit_to_celsius\n",
        "------------------------------\n",
        "This program prompts the user for a temperature\n",
        "in Fahrenheit and converts it to Celsius.\n",
        "\"\"\""
      ],
      "metadata": {
        "id": "qPst2jL4TpOk"
      }
    },
    {
      "cell_type": "code",
      "source": [
        "def temp():\n",
        "    print(\"This program converts Fahrenheit to Celsius.\")\n",
        "\n",
        "    # Prompt the user for input\n",
        "    fahrenheit = float(input(\"Enter temperature in Fahrenheit: \"))\n",
        "\n",
        "    # Convert to Celsius using the correct formula\n",
        "    celsius = (fahrenheit - 32) * 5.0 / 9.0\n",
        "\n",
        "    # Output the result\n",
        "    print(\"Temperature:\", str(fahrenheit) + \"F =\", str(celsius) + \"C\")\n",
        "\n",
        "if __name__ == '__main__':\n",
        "    temp()\n",
        "\n"
      ],
      "metadata": {
        "colab": {
          "base_uri": "https://localhost:8080/"
        },
        "id": "R7iSiIwCTpqy",
        "outputId": "fcefd2a1-2017-4d49-b317-56363a23ce08"
      },
      "execution_count": null,
      "outputs": [
        {
          "output_type": "stream",
          "name": "stdout",
          "text": [
            "This program converts Fahrenheit to Celsius.\n",
            "Enter temperature in Fahrenheit: 34\n",
            "Temperature: 34.0F = 1.1111111111111112C\n"
          ]
        }
      ]
    },
    {
      "cell_type": "markdown",
      "source": [
        "\"\"\"\n",
        "Program: 04 age_riddle_solver\n",
        "--------------------------\n",
        "This program solves an age-related riddle involving five friends:\n",
        "Anton, Beth, Chen, Drew, and Ethan. It calculates each person's\n",
        "age based on given relationships and prints the results.\n",
        "\"\"\""
      ],
      "metadata": {
        "id": "L-5PjteoZXB7"
      }
    },
    {
      "cell_type": "code",
      "source": [
        "def add_ages():\n",
        "    print(\"This program solves an age-related riddle!\")\n",
        "\n",
        "    # Assigning ages based on the riddle\n",
        "    Anton: int = 21\n",
        "    Beth: int = Anton + 6\n",
        "    Chen: int = Beth + 20\n",
        "    Drew: int = Chen + Anton\n",
        "    Ethan: int = Chen\n",
        "\n",
        "    # Printing the results\n",
        "    print(\"Anton is \" + str(Anton) + \".\")\n",
        "    print(\"Beth is \" + str(Beth) + \".\")\n",
        "    print(\"Chen is \" + str(Chen) + \".\")\n",
        "    print(\"Drew is \" + str(Drew) + \".\")\n",
        "    print(\"Ethan is \" + str(Ethan) + \".\")\n",
        "\n",
        "if __name__ == '__main__':\n",
        "    add_ages()\n",
        "\n",
        "\n"
      ],
      "metadata": {
        "id": "87_oxKGqZp9S",
        "colab": {
          "base_uri": "https://localhost:8080/"
        },
        "outputId": "3e8b20c9-76ab-4f44-aac9-e23b4276d4db"
      },
      "execution_count": null,
      "outputs": [
        {
          "output_type": "stream",
          "name": "stdout",
          "text": [
            "This program solves an age-related riddle!\n",
            "Anton is 21.\n",
            "Beth is 27.\n",
            "Chen is 47.\n",
            "Drew is 68.\n",
            "Ethan is 47.\n"
          ]
        }
      ]
    },
    {
      "cell_type": "markdown",
      "source": [
        "\"\"\"\n",
        "Program: 05 triangle_perimeter_calculator\n",
        "--------------------------------------\n",
        "This program prompts the user to enter the lengths of the\n",
        "three sides of a triangle, calculates the perimeter, and\n",
        "prints the result.\n",
        "\"\"\""
      ],
      "metadata": {
        "id": "TnLvL5otnYWr"
      }
    },
    {
      "cell_type": "code",
      "source": [
        "def tri_perimenter():\n",
        "    print(\"This program calculates the Perimeter of a Triangle.\")\n",
        "\n",
        "    # Get the 3 side lengths of the triangle from the user\n",
        "    side1: float = float(input(\"What is the length of side 1? \"))\n",
        "    side2: float = float(input(\"What is the length of side 2? \"))\n",
        "    side3: float = float(input(\"What is the length of side 3? \"))\n",
        "\n",
        "    # Calculate perimeter\n",
        "    perimeter:float = side1 + side2 + side3\n",
        "\n",
        "    # Print the perimeter (rounded to 2 decimal places)\n",
        "    print(\"The perimeter of the triangle is \" + str(round(perimeter, 2)))\n",
        "\n",
        "if __name__ == '__main__':\n",
        "    tri_perimenter()\n"
      ],
      "metadata": {
        "id": "XtszWz_0niPH",
        "colab": {
          "base_uri": "https://localhost:8080/"
        },
        "outputId": "90d36d9a-b88d-4c22-dd03-c0d9332d27cf"
      },
      "execution_count": null,
      "outputs": [
        {
          "output_type": "stream",
          "name": "stdout",
          "text": [
            "This program calculates the Perimeter of a Triangle.\n",
            "What is the length of side 1? 67.7\n",
            "What is the length of side 2? 45.5\n",
            "What is the length of side 3? 33.8\n",
            "The perimeter of the triangle is 147.0\n"
          ]
        }
      ]
    },
    {
      "cell_type": "markdown",
      "source": [
        "\"\"\"\n",
        "Program: 06 square_calculator\n",
        "--------------------------\n",
        "This program asks the user for a number and prints its square.\n",
        "\"\""
      ],
      "metadata": {
        "id": "m9WF0DT0sZWn"
      }
    },
    {
      "cell_type": "code",
      "source": [
        "def square_number():\n",
        "    print(\"This program calculates the Square of a Number.\")\n",
        "\n",
        "    # Get the user's number\n",
        "    number: float = float(input(\"Type a number to see its square: \"))\n",
        "\n",
        "    # Calculate and print the square\n",
        "    print(f\"{number} squared is {number ** 2}\")\n",
        "\n",
        "if __name__ == '__main__':\n",
        "    square_number()\n"
      ],
      "metadata": {
        "colab": {
          "base_uri": "https://localhost:8080/"
        },
        "id": "_X5rBJ-QslCE",
        "outputId": "69642281-fc25-4531-c865-cda5dffffacf"
      },
      "execution_count": null,
      "outputs": [
        {
          "output_type": "stream",
          "name": "stdout",
          "text": [
            "This program calculates the Square of a Number.\n",
            "Type a number to see its square: 9\n",
            "9.0 squared is 81.0\n"
          ]
        }
      ]
    }
  ]
}