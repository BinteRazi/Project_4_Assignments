{
  "nbformat": 4,
  "nbformat_minor": 0,
  "metadata": {
    "colab": {
      "provenance": [],
      "authorship_tag": "ABX9TyPkmeZ2QVYv7X1AzpuIlXG2",
      "include_colab_link": true
    },
    "kernelspec": {
      "name": "python3",
      "display_name": "Python 3"
    },
    "language_info": {
      "name": "python"
    }
  },
  "cells": [
    {
      "cell_type": "markdown",
      "metadata": {
        "id": "view-in-github",
        "colab_type": "text"
      },
      "source": [
        "<a href=\"https://colab.research.google.com/github/BinteRazi/Project_4_Assignments/blob/main/04_Dictionaries.ipynb\" target=\"_parent\"><img src=\"https://colab.research.google.com/assets/colab-badge.svg\" alt=\"Open In Colab\"/></a>"
      ]
    },
    {
      "cell_type": "markdown",
      "source": [
        "\"\"\"\"\n",
        "# Program: 00_count_nums.md\n",
        "This program prompts the user to input numbers one by one and adds them to a list. It then counts how many times each number appears using a dictionary and prints the results.\n",
        "\n",
        "\"\"\"\""
      ],
      "metadata": {
        "id": "4e0RgGK6-pjF"
      }
    },
    {
      "cell_type": "code",
      "execution_count": null,
      "metadata": {
        "colab": {
          "base_uri": "https://localhost:8080/"
        },
        "id": "VJKDgKyu-n62",
        "outputId": "f2ac81ca-06f9-48b0-d194-0d9740ed0c73"
      },
      "outputs": [
        {
          "output_type": "stream",
          "name": "stdout",
          "text": [
            "This is Count Number.\n",
            "Enter a number: 33\n",
            "Enter a number: 66\n",
            "Enter a number: 22\n",
            "Enter a number: 33\n",
            "Enter a number: 22\n",
            "Enter a number: 33\n",
            "Enter a number: \n",
            "33 appears 3 times.\n",
            "66 appears 1 times.\n",
            "22 appears 2 times.\n"
          ]
        }
      ],
      "source": [
        "print(\"This is Count Number.\")\n",
        "def get_user_numbers():\n",
        "\n",
        "    user_numbers = []\n",
        "    while True:\n",
        "        user_input = input(\"Enter a number: \")\n",
        "        if user_input == \"\":\n",
        "            break\n",
        "        num = int(user_input)\n",
        "        user_numbers.append(num)\n",
        "    return user_numbers\n",
        "\n",
        "\n",
        "def count_nums(num_lst):\n",
        "    \"\"\"\n",
        "    Count how many times each number appears in the list.\n",
        "    Return a dictionary with numbers as keys and their counts as values.\n",
        "    \"\"\"\n",
        "    num_dict = {}\n",
        "    for num in num_lst:\n",
        "        if num not in num_dict:\n",
        "            num_dict[num] = 1\n",
        "        else:\n",
        "            num_dict[num] += 1\n",
        "    return num_dict\n",
        "\n",
        "\n",
        "def print_counts(num_dict):\n",
        "    \"\"\"\n",
        "    Print how many times each number appeared.\n",
        "    \"\"\"\n",
        "    for num in num_dict:\n",
        "        print(f\"{num} appears {num_dict[num]} times.\")\n",
        "\n",
        "\n",
        "def main():\n",
        "    \"\"\"\n",
        "    Main program logic:\n",
        "    - Get numbers from the user.\n",
        "    - Count their occurrences.\n",
        "    - Print the results.\n",
        "    \"\"\"\n",
        "    user_numbers = get_user_numbers()\n",
        "    num_dict = count_nums(user_numbers)\n",
        "    print_counts(num_dict)\n",
        "\n",
        "\n",
        "if __name__ == '__main__':\n",
        "    main()\n"
      ]
    },
    {
      "cell_type": "markdown",
      "source": [
        "\"\"\"\"\n",
        "# Program: 01_phonebook.md\n",
        "This program shows an example of using dictionaries to store and look up information in a phonebook. It allows the user to add names and numbers, displays the phonebook, and lets the user look up numbers by name.\n",
        "\n",
        "\"\"\"\""
      ],
      "metadata": {
        "id": "Xj0az4m7Ed4G"
      }
    },
    {
      "cell_type": "code",
      "source": [
        "def add_contact(phonebook):\n",
        "    \"\"\"\n",
        "    Adds a new contact to the phonebook.\n",
        "    \"\"\"\n",
        "    name = input(\"Enter name: \")\n",
        "    if name in phonebook:\n",
        "        print(f\"{name} already exists.\")\n",
        "    else:\n",
        "        number = input(\"Enter number: \")\n",
        "        phonebook[name] = number\n",
        "        print(f\"{name} added to phonebook.\")\n",
        "\n",
        "\n",
        "def search_contact(phonebook):\n",
        "    \"\"\"\n",
        "    Searches for a contact by name.\n",
        "    \"\"\"\n",
        "    name = input(\"Enter name to search: \")\n",
        "    if name in phonebook:\n",
        "        print(f\"{name} -> {phonebook[name]}\")\n",
        "    else:\n",
        "        print(f\"{name} not found in phonebook.\")\n",
        "\n",
        "\n",
        "def delete_contact(phonebook):\n",
        "    \"\"\"\n",
        "    Deletes a contact by name.\n",
        "    \"\"\"\n",
        "    name = input(\"Enter name to delete: \")\n",
        "    if name in phonebook:\n",
        "        del phonebook[name]\n",
        "        print(f\"{name} deleted from phonebook.\")\n",
        "    else:\n",
        "        print(f\"{name} not found in phonebook.\")\n",
        "\n",
        "\n",
        "def print_phonebook(phonebook):\n",
        "    \"\"\"\n",
        "    Prints all contacts in the phonebook.\n",
        "    \"\"\"\n",
        "    if not phonebook:\n",
        "        print(\"Phonebook is empty.\")\n",
        "    else:\n",
        "        print(\"Phonebook Contacts:\")\n",
        "        for name in phonebook:\n",
        "            print(f\"{name} -> {phonebook[name]}\")\n",
        "\n",
        "\n",
        "def main():\n",
        "    print(\"This is Phonebook.\")\n",
        "    phonebook = {}\n",
        "\n",
        "    while True:\n",
        "        print(\"\\nMenu:\")\n",
        "        print(\"1. Add Contact\")\n",
        "        print(\"2. Search Contact\")\n",
        "        print(\"3. Delete Contact\")\n",
        "        print(\"4. View All Contacts\")\n",
        "        print(\"5. Exit\")\n",
        "\n",
        "        choice = input(\"Enter your choice (1-5): \")\n",
        "\n",
        "        if choice == \"1\":\n",
        "            add_contact(phonebook)\n",
        "        elif choice == \"2\":\n",
        "            search_contact(phonebook)\n",
        "        elif choice == \"3\":\n",
        "            delete_contact(phonebook)\n",
        "        elif choice == \"4\":\n",
        "            print_phonebook(phonebook)\n",
        "        elif choice == \"5\":\n",
        "            print(\"Exiting Phonebook. Goodbye!\")\n",
        "            break\n",
        "        else:\n",
        "            print(\"Invalid choice. Please select from 1-5.\")\n",
        "\n",
        "\n",
        "if __name__ == '__main__':\n",
        "    main()\n"
      ],
      "metadata": {
        "colab": {
          "base_uri": "https://localhost:8080/"
        },
        "id": "H27SFTO4CAvy",
        "outputId": "4f16d4fa-f2a6-4bf6-d9bc-c1adbd80f751"
      },
      "execution_count": 13,
      "outputs": [
        {
          "output_type": "stream",
          "name": "stdout",
          "text": [
            "This is Phonebook.\n",
            "\n",
            "Menu:\n",
            "1. Add Contact\n",
            "2. Search Contact\n",
            "3. Delete Contact\n",
            "4. View All Contacts\n",
            "5. Exit\n",
            "Enter your choice (1-5): 1\n",
            "Enter name: Ali\n",
            "Enter number: 12356789\n",
            "Ali added to phonebook.\n",
            "\n",
            "Menu:\n",
            "1. Add Contact\n",
            "2. Search Contact\n",
            "3. Delete Contact\n",
            "4. View All Contacts\n",
            "5. Exit\n",
            "Enter your choice (1-5): 4\n",
            "Phonebook Contacts:\n",
            "Ali -> 12356789\n",
            "\n",
            "Menu:\n",
            "1. Add Contact\n",
            "2. Search Contact\n",
            "3. Delete Contact\n",
            "4. View All Contacts\n",
            "5. Exit\n",
            "Enter your choice (1-5): exit\n",
            "Invalid choice. Please select from 1-5.\n",
            "\n",
            "Menu:\n",
            "1. Add Contact\n",
            "2. Search Contact\n",
            "3. Delete Contact\n",
            "4. View All Contacts\n",
            "5. Exit\n",
            "Enter your choice (1-5): 5\n",
            "Exiting Phonebook. Goodbye!\n"
          ]
        }
      ]
    },
    {
      "cell_type": "markdown",
      "source": [
        "\"\"\"\"\n",
        "# Program: 02_pop_up_shop.md\n",
        "This program uses a dictionary to store fruit prices. It asks the user how many of each fruit they want to buy, then calculates and displays the total cost.\n",
        "\n",
        "\"\"\"\""
      ],
      "metadata": {
        "id": "YEJn1T7BLAuC"
      }
    },
    {
      "cell_type": "code",
      "source": [
        "print(\"This is Pop Up Shop.\")\n",
        "\n",
        "def main():\n",
        "    fruits = {\n",
        "        'apple': 1.5,\n",
        "        'banana': 50,\n",
        "        'grapes': 80,\n",
        "        'kiwi': 1,\n",
        "        'pear': 1.5,\n",
        "        'mango': 5\n",
        "    }\n",
        "\n",
        "    total_cost = 0\n",
        "\n",
        "    for fruit_name in fruits:\n",
        "        price = fruits[fruit_name]\n",
        "        amount_bought = int(input(f\"How many ({fruit_name}) do you want to buy?: \"))\n",
        "        total_cost += price * amount_bought\n",
        "\n",
        "    print(f\"Your total is ${total_cost}\")\n",
        "\n",
        "\n",
        "if __name__ == '__main__':\n",
        "    main()\n",
        "\n"
      ],
      "metadata": {
        "colab": {
          "base_uri": "https://localhost:8080/"
        },
        "id": "9h-2VvmJLREt",
        "outputId": "6f3abbf9-bfe7-43e0-a7fa-5e9f90029d26"
      },
      "execution_count": 21,
      "outputs": [
        {
          "output_type": "stream",
          "name": "stdout",
          "text": [
            "This is Pop Up Shop.\n",
            "How many (apple) do you want to buy?: 5\n",
            "How many (banana) do you want to buy?: 6\n",
            "How many (grapes) do you want to buy?: 8\n",
            "How many (kiwi) do you want to buy?: 2\n",
            "How many (pear) do you want to buy?: 3\n",
            "How many (mango) do you want to buy?: 1\n",
            "Your total is $959.0\n"
          ]
        }
      ]
    },
    {
      "cell_type": "markdown",
      "source": [
        "\"\"\"\"\n",
        "# Program: 03_powerful_passwords.md\n",
        "This program demonstrates using password hashing to securely verify logins. It stores hashed passwords in a dictionary and checks if a user's entered password matches the stored hash using a SHA256 hashing function.\n",
        "\n",
        "\"\"\"\""
      ],
      "metadata": {
        "id": "-ijIn0oiNGmk"
      }
    },
    {
      "cell_type": "code",
      "source": [
        "from hashlib import sha256\n",
        "import getpass\n",
        "\n",
        "\n",
        "print(\"This is Powerful Passwords.\")\n",
        "\n",
        "def login(email, stored_logins, password_to_check):\n",
        "    if email not in stored_logins:\n",
        "        return False, \"Email not found.\"\n",
        "    if stored_logins[email] == hash_password(password_to_check):\n",
        "        return True, \"Login successful!\"\n",
        "    return False, \"Incorrect password.\"\n",
        "\n",
        "def hash_password(password):\n",
        "    return sha256(password.encode()).hexdigest()\n",
        "\n",
        "def main():\n",
        "    stored_logins = {\n",
        "        \"nida081@gmail.com\": \"5e884898da28047151d0e56f8dc6292773603d0d6aabbdd62a11ef721d1542d8\",\n",
        "        \"code_in_placer@cip.org\": \"973607a4ae7b4cf7d96a100b0fb07e8519cc4f70441d41214a9f811577bb06cc\",\n",
        "        \"student@stanford.edu\": \"882c6df720fd99f5eebb1581a1cf975625cea8a160283011c0b9512bb56c95fb\"\n",
        "    }\n",
        "\n",
        "    email = input(\"Enter your email: \")\n",
        "    password = getpass.getpass(\"Enter your password: \")\n",
        "\n",
        "\n",
        "    success, message = login(email, stored_logins, password)\n",
        "    print(message)\n",
        "\n",
        "if __name__ == '__main__':\n",
        "    main()\n"
      ],
      "metadata": {
        "colab": {
          "base_uri": "https://localhost:8080/"
        },
        "id": "LP0jVhzlM5yT",
        "outputId": "2123d682-c8bf-4e74-d4b6-c79b8604bf96"
      },
      "execution_count": 19,
      "outputs": [
        {
          "output_type": "stream",
          "name": "stdout",
          "text": [
            "This is Powerful Passwords.\n",
            "Enter your email: nida081@gmail.com\n",
            "Enter your password: ··········\n",
            "Incorrect password.\n"
          ]
        }
      ]
    }
  ]
}