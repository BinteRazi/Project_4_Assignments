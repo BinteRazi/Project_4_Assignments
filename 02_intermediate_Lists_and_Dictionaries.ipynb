{
  "nbformat": 4,
  "nbformat_minor": 0,
  "metadata": {
    "colab": {
      "provenance": [],
      "authorship_tag": "ABX9TyPyek28Lbr8rpr+PYIRhYMh",
      "include_colab_link": true
    },
    "kernelspec": {
      "name": "python3",
      "display_name": "Python 3"
    },
    "language_info": {
      "name": "python"
    }
  },
  "cells": [
    {
      "cell_type": "markdown",
      "metadata": {
        "id": "view-in-github",
        "colab_type": "text"
      },
      "source": [
        "<a href=\"https://colab.research.google.com/github/BinteRazi/Project_4_Assignments/blob/main/02_intermediate_Lists_and_Dictionaries.ipynb\" target=\"_parent\"><img src=\"https://colab.research.google.com/assets/colab-badge.svg\" alt=\"Open In Colab\"/></a>"
      ]
    },
    {
      "cell_type": "markdown",
      "source": [
        "\"\"\"\n",
        "#Program: 01_Index_Game\n",
        "This program helps practice accessing, modifying, and slicing elements in a list. The user interacts with a list and can perform different operations:\n",
        "- Access an element at a specified index.\n",
        "- Modify an element at a specified index.\n",
        "- Slice the list to retrieve a subset of elements.\n",
        "\n",
        "It demonstrates the use of lists, indexing, slicing, and modifying elements in a list, along with user input, error handling, and control flow.\n",
        "\n",
        "\"\"\""
      ],
      "metadata": {
        "id": "F0Vme92kTM_9"
      }
    },
    {
      "cell_type": "code",
      "execution_count": null,
      "metadata": {
        "id": "MpeXZjrxTJqc"
      },
      "outputs": [],
      "source": [
        "print(\"\\n\" + \"=\" * 60)\n",
        "print(\"\\t\\t\\tINDEX GAME\\t\\t\\t\")\n",
        "print(\"=\" * 60 + \"\\n\")\n",
        "\n",
        "def access_element(lst, index):\n",
        "    try:\n",
        "        return lst[index]\n",
        "    except IndexError:\n",
        "        return \"Index out of range.\"\n",
        "\n",
        "def modify_element(lst, index, new_value):\n",
        "    try:\n",
        "        lst[index] = new_value\n",
        "        return lst\n",
        "    except IndexError:\n",
        "        return \"Index out of range.\"\n",
        "\n",
        "def slice_list(lst, start, end):\n",
        "    try:\n",
        "        return lst[start:end]\n",
        "    except IndexError:\n",
        "        return \"Invalid indices.\"\n",
        "\n",
        "def index_game():\n",
        "    lst = [1, 2, 3, 4, 5]  # Example list\n",
        "    while True:\n",
        "        print(\"\\nCurrent list:\", lst)\n",
        "        print(\"Choose an operation: access, modify, slice, exit\")\n",
        "        operation = input(\"Enter operation: \")\n",
        "\n",
        "        if operation == \"access\":\n",
        "            index = int(input(\"Enter index to access: \"))\n",
        "            print(access_element(lst, index))\n",
        "        elif operation == \"modify\":\n",
        "            index = int(input(\"Enter index to modify: \"))\n",
        "            new_value = input(\"Enter new value: \")\n",
        "            print(modify_element(lst, index, new_value))\n",
        "        elif operation == \"slice\":\n",
        "            start = int(input(\"Enter start index: \"))\n",
        "            end = int(input(\"Enter end index: \"))\n",
        "            print(slice_list(lst, start, end))\n",
        "        elif operation == \"exit\":\n",
        "            print(\"Exiting game. Thanks for playing!\")\n",
        "            break\n",
        "        else:\n",
        "            print(\"Invalid operation. Please choose from 'access', 'modify', 'slice', or 'exit'.\")\n",
        "\n",
        "# Start the game\n",
        "index_game()\n",
        "\n"
      ]
    },
    {
      "cell_type": "markdown",
      "source": [
        "\"\"\"\n",
        "#Program: 02_List_Practice\n",
        "This program demonstrates basic list operations such as creating a list, accessing its length, adding elements, and printing the updated list.\n",
        "It helps practice the creation and manipulation of lists in Python.\n",
        "\n",
        "\n",
        "\n",
        "\"\"\"\""
      ],
      "metadata": {
        "id": "IFMkLglrUkhk"
      }
    },
    {
      "cell_type": "code",
      "source": [
        "def main():\n",
        "\n",
        "    print(\"\\n\" + \"=\" * 60)\n",
        "    print(\"\\t\\t\\tLIST PRACTICE\\t\\t\\t\")\n",
        "    print(\"=\" * 60 + \"\\n\")\n",
        "\n",
        "    # Create a list called fruit_list\n",
        "    fruit_lst = ['apple', 'banana', 'orange', 'grape', 'pineapple']\n",
        "\n",
        "    # Print the length of the list\n",
        "    lst_length = len(fruit_lst)\n",
        "    print(\"Length of fruit list:\", lst_length)\n",
        "\n",
        "    # Add 'mango' at the end of the list\n",
        "    fruit_lst.append('mango')\n",
        "\n",
        "    # Print the updated list\n",
        "    print(\"Updated fruit list:\")\n",
        "    for fruit in fruit_lst:\n",
        "        print(fruit)\n",
        "\n",
        "# Ensure the script runs if executed directly\n",
        "if __name__ == '__main__':\n",
        "    main()\n"
      ],
      "metadata": {
        "id": "w3bohXgXT6S6"
      },
      "execution_count": null,
      "outputs": []
    }
  ]
}