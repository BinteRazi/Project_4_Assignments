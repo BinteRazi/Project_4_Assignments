{
  "nbformat": 4,
  "nbformat_minor": 0,
  "metadata": {
    "colab": {
      "provenance": [],
      "authorship_tag": "ABX9TyM5/hw2L+A1xkibefkxA/ql",
      "include_colab_link": true
    },
    "kernelspec": {
      "name": "python3",
      "display_name": "Python 3"
    },
    "language_info": {
      "name": "python"
    }
  },
  "cells": [
    {
      "cell_type": "markdown",
      "metadata": {
        "id": "view-in-github",
        "colab_type": "text"
      },
      "source": [
        "<a href=\"https://colab.research.google.com/github/BinteRazi/Project_4_Assignments/blob/main/07_information_flow.ipynb\" target=\"_parent\"><img src=\"https://colab.research.google.com/assets/colab-badge.svg\" alt=\"Open In Colab\"/></a>"
      ]
    },
    {
      "cell_type": "markdown",
      "source": [
        "\"\"\"\n",
        "#Program: 00_choosing_returns.md\n",
        "Write a program that takes a person's age as input and checks if the person is an adult\n",
        "using a comparison operator. An adult is anyone whose age is greater than or equal to 18.\n",
        "\n",
        "\"\"\""
      ],
      "metadata": {
        "id": "77ADWI9i3glv"
      }
    },
    {
      "cell_type": "code",
      "execution_count": 2,
      "metadata": {
        "colab": {
          "base_uri": "https://localhost:8080/"
        },
        "id": "adl2Arbh3fu2",
        "outputId": "ec7a2cf8-61e0-49e9-e9b5-485a6b889966"
      },
      "outputs": [
        {
          "output_type": "stream",
          "name": "stdout",
          "text": [
            "This program is Person's age\n",
            "How old is this person?: 56\n",
            "True\n"
          ]
        }
      ],
      "source": [
        "print(\"This program is Person's age\")\n",
        "ADULT_AGE: int = 18\n",
        "\n",
        "def is_adult(age: int) -> bool:\n",
        "    if age >= ADULT_AGE:\n",
        "        return True\n",
        "    return False\n",
        "\n",
        "def main():\n",
        "    age: int = int(input(\"How old is this person?: \"))\n",
        "    print(is_adult(age))\n",
        "\n",
        "if __name__ == \"__main__\":\n",
        "    main()"
      ]
    },
    {
      "cell_type": "markdown",
      "source": [
        "\"\"\"\n",
        "# Program: 01_greetings.md\n",
        "Write a program that takes the user's name as input and greets them using a helper function.\n",
        "\n",
        "\"\"\""
      ],
      "metadata": {
        "id": "mA-2OmMS4VfW"
      }
    },
    {
      "cell_type": "code",
      "source": [
        "print(\"This program is Greetings.\")\n",
        "def main():\n",
        "    name: str = input(\"What's your name? \")\n",
        "    greet(name)\n",
        "\n",
        "def greet(name):\n",
        "    print(\"Greetings \" + name + \"!\")\n",
        "\n",
        "if __name__ == '__main__':\n",
        "    main()"
      ],
      "metadata": {
        "colab": {
          "base_uri": "https://localhost:8080/"
        },
        "id": "kRwmtCuS4qj-",
        "outputId": "1ba489c8-10a6-4291-c9a7-2053cda1419b"
      },
      "execution_count": 3,
      "outputs": [
        {
          "output_type": "stream",
          "name": "stdout",
          "text": [
            "This program is Greetings.\n",
            "What's your name? Sara\n",
            "Greetings Sara!\n"
          ]
        }
      ]
    },
    {
      "cell_type": "markdown",
      "source": [
        "\"\"\"\n",
        "# Program: 02_in_range.md\n",
        "Write a program that defines a function in_range(n, low, high) which returns True. if n is between low and high, inclusive. Assumes high is greater than low.\n",
        "\n",
        "\"\"\""
      ],
      "metadata": {
        "id": "lxz1vi615o-b"
      }
    },
    {
      "cell_type": "code",
      "source": [
        "print(\"This program is in_range.\")\n",
        "def in_range(n, low, high):\n",
        "\n",
        "    if n >= low and n <= high:\n",
        "        return True\n",
        "    return False\n",
        "\n",
        "def main():\n",
        "    n = int(input(\"Enter a number: \"))\n",
        "    low = int(input(\"Enter the lower bound: \"))\n",
        "    high = int(input(\"Enter the upper bound: \"))\n",
        "\n",
        "    print(in_range(n, low, high))\n",
        "\n",
        "if __name__ == '__main__':\n",
        "    main()"
      ],
      "metadata": {
        "colab": {
          "base_uri": "https://localhost:8080/"
        },
        "id": "L2vANxY-5zXj",
        "outputId": "ff7220fd-9cd3-4566-f03f-7e5f03f3566b"
      },
      "execution_count": 4,
      "outputs": [
        {
          "output_type": "stream",
          "name": "stdout",
          "text": [
            "This program is in_range.\n",
            "Enter a number: 44\n",
            "Enter the lower bound: 21\n",
            "Enter the upper bound: 11\n",
            "False\n"
          ]
        }
      ]
    },
    {
      "cell_type": "markdown",
      "source": [
        "\"\"\"\n",
        "#Program: 03_in_stock.md\n",
        "Write a program that prompts the user to enter a fruit name, checks the inventory using\n",
        "num_in_stock(fruit), and displays the stock count if available, or a message if out of stock.\n",
        "\n",
        "\"\"\""
      ],
      "metadata": {
        "id": "xwUHNZnM6VCH"
      }
    },
    {
      "cell_type": "code",
      "source": [
        "print(\"This program is Fruit in Stock.\")\n",
        "def main():\n",
        "    fruit: str = input(\"Enter a fruit: \")\n",
        "    stock = num_in_stock(fruit)\n",
        "\n",
        "    if stock == 0:\n",
        "        print(\"This fruit is not in stock.\")\n",
        "    else:\n",
        "        print(\"This fruit is in stock! Here is how many:\")\n",
        "        print(stock)\n",
        "\n",
        "\n",
        "def num_in_stock(fruit):\n",
        "\n",
        "    if fruit == 'apple':\n",
        "        return 2\n",
        "    if fruit == 'orange':\n",
        "        return 4\n",
        "    if fruit == 'pear':\n",
        "        return 1000\n",
        "    else:\n",
        "        return 0\n",
        "\n",
        "if __name__ == '__main__':\n",
        "    main()\n"
      ],
      "metadata": {
        "colab": {
          "base_uri": "https://localhost:8080/"
        },
        "id": "Yp1IZxl46e1H",
        "outputId": "db9354fd-fdb6-4707-e756-4fc8ba5d6e90"
      },
      "execution_count": 6,
      "outputs": [
        {
          "output_type": "stream",
          "name": "stdout",
          "text": [
            "This program is Fruit in Stock.\n",
            "Enter a fruit: plum\n",
            "This fruit is not in stock.\n"
          ]
        }
      ]
    },
    {
      "cell_type": "markdown",
      "source": [
        "\"\"\"\n",
        "# Program: 04_multiple_returns.md\n",
        "Write a program that prompts the user to enter their first name, last name, and email address.\n",
        "The get_user_data() function returns all three pieces of information as a tuple.\n",
        "\n",
        "\"\"\""
      ],
      "metadata": {
        "id": "NeaeQBCh7U7A"
      }
    },
    {
      "cell_type": "code",
      "source": [
        "print(\"This program is Multiple Returns.\")\n",
        "def get_user_data():\n",
        "    first_name: str = input(\"What is your first name?: \")\n",
        "    last_name: str = input(\"What is your last name?: \")\n",
        "    email_address: str = input(\"What is your email address?: \")\n",
        "\n",
        "    return first_name, last_name, email_address\n",
        "\n",
        "def main():\n",
        "    user_data = get_user_data()\n",
        "    print(\"Received the following user data:\", user_data)\n",
        "\n",
        "if __name__ == \"__main__\":\n",
        "    main()"
      ],
      "metadata": {
        "colab": {
          "base_uri": "https://localhost:8080/"
        },
        "id": "eOGMIE_B7mz_",
        "outputId": "9e4fb95c-fa05-4113-92bf-21c7a518cb96"
      },
      "execution_count": 7,
      "outputs": [
        {
          "output_type": "stream",
          "name": "stdout",
          "text": [
            "This program is Multiple Returns.\n",
            "What is your first name?: Hina\n",
            "What is your last name?: Rehman\n",
            "What is your email address?: hina101@gmail.com\n",
            "Received the following user data: ('Hina', 'Rehman', 'hina101@gmail.com')\n"
          ]
        }
      ]
    },
    {
      "cell_type": "markdown",
      "source": [
        "\"\"\"\n",
        "#Program: 05_subtract_7.md\n",
        "Write a program that defines a helper function subtract_seven(num) to subtract 7 from the given number.\n",
        "The main() function calls this helper function and displays the result.\n",
        "\n",
        "\"\"\""
      ],
      "metadata": {
        "id": "dsU4hR998HdL"
      }
    },
    {
      "cell_type": "code",
      "source": [
        "print(\"This program is Subtract Seven.\")\n",
        "def main():\n",
        "    num: int = 7\n",
        "    num = subtract_seven(num)\n",
        "    print(\"this should be zero:\", num)\n",
        "\n",
        "def subtract_seven(num):\n",
        "    return num - 7\n",
        "\n",
        "if __name__ == '__main__':\n",
        "    main()"
      ],
      "metadata": {
        "colab": {
          "base_uri": "https://localhost:8080/"
        },
        "id": "h8PvzFsC8cbP",
        "outputId": "9391c5af-54e3-4594-9d81-63ba888ab7b7"
      },
      "execution_count": 9,
      "outputs": [
        {
          "output_type": "stream",
          "name": "stdout",
          "text": [
            "This program is Subtract Seven.\n",
            "this should be zero: 0\n"
          ]
        }
      ]
    }
  ]
}